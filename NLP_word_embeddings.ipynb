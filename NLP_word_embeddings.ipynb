{
  "nbformat": 4,
  "nbformat_minor": 0,
  "metadata": {
    "colab": {
      "provenance": [],
      "gpuType": "T4"
    },
    "kernelspec": {
      "name": "python3",
      "display_name": "Python 3"
    },
    "accelerator": "GPU"
  },
  "cells": [
    {
      "cell_type": "markdown",
      "source": [
        "# Klasyfikacja sentymentu\n",
        "## Zastosowanie osadzeń słów\n",
        "\n",
        "W tym ćwiczeniu do eksperymentów dodamy wykorzystanie osadzania słów, czyli wektorowe reprezentacje słów. Posłużymy się wytrenowanymi modelami Word2Vec i Glove. Word2vec próbuje uchwycić współwystępowanie słów w jednym oknie jednocześnie, a Glove opiera się na współwystępowaniu słów w całym korpusie."
      ],
      "metadata": {
        "id": "zx8Qj6m4Rbfc"
      }
    },
    {
      "cell_type": "markdown",
      "source": [
        "Zaczniemy od pobrania gotowej reprezentacji wektorowej słów z **Glove** word embeddings ze strony: https://nlp.stanford.edu/data/glove.6B.zip."
      ],
      "metadata": {
        "id": "Ryl93LCWRc3f"
      }
    },
    {
      "cell_type": "code",
      "source": [
        "!wget https://nlp.stanford.edu/data/glove.6B.zip"
      ],
      "metadata": {
        "id": "J_kIU9s5wUxK",
        "colab": {
          "base_uri": "https://localhost:8080/"
        },
        "outputId": "2ef2597f-a1a2-49ac-e1a9-a7c69b7e4d73"
      },
      "execution_count": 3,
      "outputs": [
        {
          "output_type": "stream",
          "name": "stdout",
          "text": [
            "--2024-03-21 17:02:11--  https://nlp.stanford.edu/data/glove.6B.zip\n",
            "Resolving nlp.stanford.edu (nlp.stanford.edu)... 171.64.67.140\n",
            "Connecting to nlp.stanford.edu (nlp.stanford.edu)|171.64.67.140|:443... connected.\n",
            "HTTP request sent, awaiting response... 301 Moved Permanently\n",
            "Location: https://downloads.cs.stanford.edu/nlp/data/glove.6B.zip [following]\n",
            "--2024-03-21 17:02:12--  https://downloads.cs.stanford.edu/nlp/data/glove.6B.zip\n",
            "Resolving downloads.cs.stanford.edu (downloads.cs.stanford.edu)... 171.64.64.22\n",
            "Connecting to downloads.cs.stanford.edu (downloads.cs.stanford.edu)|171.64.64.22|:443... connected.\n",
            "HTTP request sent, awaiting response... 200 OK\n",
            "Length: 862182613 (822M) [application/zip]\n",
            "Saving to: ‘glove.6B.zip’\n",
            "\n",
            "glove.6B.zip        100%[===================>] 822.24M  3.31MB/s    in 2m 48s  \n",
            "\n",
            "2024-03-21 17:05:00 (4.90 MB/s) - ‘glove.6B.zip’ saved [862182613/862182613]\n",
            "\n"
          ]
        }
      ]
    },
    {
      "cell_type": "markdown",
      "source": [
        "Następnie rozpakujemy pliki lokalnie korzystając z biblioteki `zipfile` i wrappera `ZipFile` oraz metody `extractall`."
      ],
      "metadata": {
        "id": "1C1N-1a4Sd0T"
      }
    },
    {
      "cell_type": "code",
      "metadata": {
        "id": "wJo1YiRjx3FI"
      },
      "source": [
        "from zipfile import ZipFile\n",
        "with ZipFile('glove.6B.zip', 'r') as z:\n",
        "  z.extractall()"
      ],
      "execution_count": 4,
      "outputs": []
    },
    {
      "cell_type": "markdown",
      "source": [
        "Teraz zaimportujemy potrzebne biblioteki, w tym Pandas, gensim oraz Keras:"
      ],
      "metadata": {
        "id": "zTmlAQ1tRXrQ"
      }
    },
    {
      "cell_type": "code",
      "metadata": {
        "id": "BvBtsADefbtf"
      },
      "source": [
        "import pandas as pd\n",
        "import numpy as np\n",
        "\n",
        "import tensorflow as tf\n",
        "import keras\n",
        "from keras.preprocessing.text import Tokenizer\n",
        "from keras.utils import pad_sequences, to_categorical\n",
        "from keras.models import Sequential, Model\n",
        "from keras import layers\n",
        "\n",
        "from sklearn.model_selection import train_test_split\n",
        "\n",
        "import gensim\n",
        "from gensim.models import Word2Vec\n",
        "from gensim.models import KeyedVectors\n",
        "import gensim.downloader as api\n",
        "\n",
        "from IPython.display import SVG\n",
        "from tensorflow.keras.utils import model_to_dot"
      ],
      "execution_count": 5,
      "outputs": []
    },
    {
      "cell_type": "markdown",
      "source": [
        "Możemy podłączyć dysk Google, żeby mieć dostęp do zasobów, w tym pliku z recencjami Amazona."
      ],
      "metadata": {
        "id": "wCnjMR3ySquo"
      }
    },
    {
      "cell_type": "code",
      "source": [
        "from google.colab import drive\n",
        "drive.mount('/content/drive')"
      ],
      "metadata": {
        "id": "ViQAHwrzjsnA",
        "colab": {
          "base_uri": "https://localhost:8080/"
        },
        "outputId": "50873de2-5517-4385-fd23-05a16af1a404"
      },
      "execution_count": 6,
      "outputs": [
        {
          "output_type": "stream",
          "name": "stdout",
          "text": [
            "Mounted at /content/drive\n"
          ]
        }
      ]
    },
    {
      "cell_type": "markdown",
      "source": [
        "Wczytujemy dane do `dataframe` i możemy podejrzeć zawartość, korzystając z metody `sample`."
      ],
      "metadata": {
        "id": "nL-Nf3EfS7z3"
      }
    },
    {
      "cell_type": "code",
      "metadata": {
        "id": "qGEDS0rOQAha"
      },
      "source": [
        "path_to_data = '/content/drive/MyDrive/ZUM/02/Musical_instruments_reviews.csv' # UWAGA: ta ścieżka jest do moich danych na dysku, naleŻy to zmienić u siebie"
      ],
      "execution_count": 7,
      "outputs": []
    },
    {
      "cell_type": "code",
      "metadata": {
        "id": "STA1OeaLQf7h",
        "colab": {
          "base_uri": "https://localhost:8080/",
          "height": 206
        },
        "outputId": "4819731c-d207-498c-e538-9e5688e7a93a"
      },
      "source": [
        "df = pd.read_csv(path_to_data)\n",
        "df.sample(5)"
      ],
      "execution_count": 8,
      "outputs": [
        {
          "output_type": "execute_result",
          "data": {
            "text/plain": [
              "          reviewerID        asin         reviewerName helpful  \\\n",
              "7289   AG8FGAIPRBKIR  B002GYWBJ6          Jolly Roger  [3, 3]   \n",
              "6658  A2IMZNPSJGB2HQ  B001L8MDMS  Fernando Valenzuela  [2, 2]   \n",
              "5140  A34VZEFXQJJ7AT  B000N5MK8M           Guitarslim  [0, 0]   \n",
              "9339  A37U8NH2CD9EDX  B005NACC6M             J. Vento  [1, 2]   \n",
              "8203  A14B2YH83ZXMPP  B003VWJ2K8      Lonnie M. Adams  [0, 0]   \n",
              "\n",
              "                                             reviewText  overall  \\\n",
              "7289  I had been looking for an amp for home practic...      5.0   \n",
              "6658  I swapped out the pickguard on my American Sta...      5.0   \n",
              "5140  The ebow is a crazy concept. It's fun to use a...      5.0   \n",
              "9339  I purchased the DR-40 for use in field recordi...      4.0   \n",
              "8203  After reviewing people reviewer, I had no dout...      5.0   \n",
              "\n",
              "                                     summary  unixReviewTime   reviewTime  \n",
              "7289                              Blown Away      1359590400  01 31, 2013  \n",
              "6658                     Does what it should      1336953600  05 14, 2012  \n",
              "5140                             Pretty cool      1393372800  02 26, 2014  \n",
              "9339  Purchased for amateur field recordings      1360713600  02 13, 2013  \n",
              "8203                      Just what I Expect      1399852800  05 12, 2014  "
            ],
            "text/html": [
              "\n",
              "  <div id=\"df-f16db7b6-5934-46ef-a0f0-52bb9811b99c\" class=\"colab-df-container\">\n",
              "    <div>\n",
              "<style scoped>\n",
              "    .dataframe tbody tr th:only-of-type {\n",
              "        vertical-align: middle;\n",
              "    }\n",
              "\n",
              "    .dataframe tbody tr th {\n",
              "        vertical-align: top;\n",
              "    }\n",
              "\n",
              "    .dataframe thead th {\n",
              "        text-align: right;\n",
              "    }\n",
              "</style>\n",
              "<table border=\"1\" class=\"dataframe\">\n",
              "  <thead>\n",
              "    <tr style=\"text-align: right;\">\n",
              "      <th></th>\n",
              "      <th>reviewerID</th>\n",
              "      <th>asin</th>\n",
              "      <th>reviewerName</th>\n",
              "      <th>helpful</th>\n",
              "      <th>reviewText</th>\n",
              "      <th>overall</th>\n",
              "      <th>summary</th>\n",
              "      <th>unixReviewTime</th>\n",
              "      <th>reviewTime</th>\n",
              "    </tr>\n",
              "  </thead>\n",
              "  <tbody>\n",
              "    <tr>\n",
              "      <th>7289</th>\n",
              "      <td>AG8FGAIPRBKIR</td>\n",
              "      <td>B002GYWBJ6</td>\n",
              "      <td>Jolly Roger</td>\n",
              "      <td>[3, 3]</td>\n",
              "      <td>I had been looking for an amp for home practic...</td>\n",
              "      <td>5.0</td>\n",
              "      <td>Blown Away</td>\n",
              "      <td>1359590400</td>\n",
              "      <td>01 31, 2013</td>\n",
              "    </tr>\n",
              "    <tr>\n",
              "      <th>6658</th>\n",
              "      <td>A2IMZNPSJGB2HQ</td>\n",
              "      <td>B001L8MDMS</td>\n",
              "      <td>Fernando Valenzuela</td>\n",
              "      <td>[2, 2]</td>\n",
              "      <td>I swapped out the pickguard on my American Sta...</td>\n",
              "      <td>5.0</td>\n",
              "      <td>Does what it should</td>\n",
              "      <td>1336953600</td>\n",
              "      <td>05 14, 2012</td>\n",
              "    </tr>\n",
              "    <tr>\n",
              "      <th>5140</th>\n",
              "      <td>A34VZEFXQJJ7AT</td>\n",
              "      <td>B000N5MK8M</td>\n",
              "      <td>Guitarslim</td>\n",
              "      <td>[0, 0]</td>\n",
              "      <td>The ebow is a crazy concept. It's fun to use a...</td>\n",
              "      <td>5.0</td>\n",
              "      <td>Pretty cool</td>\n",
              "      <td>1393372800</td>\n",
              "      <td>02 26, 2014</td>\n",
              "    </tr>\n",
              "    <tr>\n",
              "      <th>9339</th>\n",
              "      <td>A37U8NH2CD9EDX</td>\n",
              "      <td>B005NACC6M</td>\n",
              "      <td>J. Vento</td>\n",
              "      <td>[1, 2]</td>\n",
              "      <td>I purchased the DR-40 for use in field recordi...</td>\n",
              "      <td>4.0</td>\n",
              "      <td>Purchased for amateur field recordings</td>\n",
              "      <td>1360713600</td>\n",
              "      <td>02 13, 2013</td>\n",
              "    </tr>\n",
              "    <tr>\n",
              "      <th>8203</th>\n",
              "      <td>A14B2YH83ZXMPP</td>\n",
              "      <td>B003VWJ2K8</td>\n",
              "      <td>Lonnie M. Adams</td>\n",
              "      <td>[0, 0]</td>\n",
              "      <td>After reviewing people reviewer, I had no dout...</td>\n",
              "      <td>5.0</td>\n",
              "      <td>Just what I Expect</td>\n",
              "      <td>1399852800</td>\n",
              "      <td>05 12, 2014</td>\n",
              "    </tr>\n",
              "  </tbody>\n",
              "</table>\n",
              "</div>\n",
              "    <div class=\"colab-df-buttons\">\n",
              "\n",
              "  <div class=\"colab-df-container\">\n",
              "    <button class=\"colab-df-convert\" onclick=\"convertToInteractive('df-f16db7b6-5934-46ef-a0f0-52bb9811b99c')\"\n",
              "            title=\"Convert this dataframe to an interactive table.\"\n",
              "            style=\"display:none;\">\n",
              "\n",
              "  <svg xmlns=\"http://www.w3.org/2000/svg\" height=\"24px\" viewBox=\"0 -960 960 960\">\n",
              "    <path d=\"M120-120v-720h720v720H120Zm60-500h600v-160H180v160Zm220 220h160v-160H400v160Zm0 220h160v-160H400v160ZM180-400h160v-160H180v160Zm440 0h160v-160H620v160ZM180-180h160v-160H180v160Zm440 0h160v-160H620v160Z\"/>\n",
              "  </svg>\n",
              "    </button>\n",
              "\n",
              "  <style>\n",
              "    .colab-df-container {\n",
              "      display:flex;\n",
              "      gap: 12px;\n",
              "    }\n",
              "\n",
              "    .colab-df-convert {\n",
              "      background-color: #E8F0FE;\n",
              "      border: none;\n",
              "      border-radius: 50%;\n",
              "      cursor: pointer;\n",
              "      display: none;\n",
              "      fill: #1967D2;\n",
              "      height: 32px;\n",
              "      padding: 0 0 0 0;\n",
              "      width: 32px;\n",
              "    }\n",
              "\n",
              "    .colab-df-convert:hover {\n",
              "      background-color: #E2EBFA;\n",
              "      box-shadow: 0px 1px 2px rgba(60, 64, 67, 0.3), 0px 1px 3px 1px rgba(60, 64, 67, 0.15);\n",
              "      fill: #174EA6;\n",
              "    }\n",
              "\n",
              "    .colab-df-buttons div {\n",
              "      margin-bottom: 4px;\n",
              "    }\n",
              "\n",
              "    [theme=dark] .colab-df-convert {\n",
              "      background-color: #3B4455;\n",
              "      fill: #D2E3FC;\n",
              "    }\n",
              "\n",
              "    [theme=dark] .colab-df-convert:hover {\n",
              "      background-color: #434B5C;\n",
              "      box-shadow: 0px 1px 3px 1px rgba(0, 0, 0, 0.15);\n",
              "      filter: drop-shadow(0px 1px 2px rgba(0, 0, 0, 0.3));\n",
              "      fill: #FFFFFF;\n",
              "    }\n",
              "  </style>\n",
              "\n",
              "    <script>\n",
              "      const buttonEl =\n",
              "        document.querySelector('#df-f16db7b6-5934-46ef-a0f0-52bb9811b99c button.colab-df-convert');\n",
              "      buttonEl.style.display =\n",
              "        google.colab.kernel.accessAllowed ? 'block' : 'none';\n",
              "\n",
              "      async function convertToInteractive(key) {\n",
              "        const element = document.querySelector('#df-f16db7b6-5934-46ef-a0f0-52bb9811b99c');\n",
              "        const dataTable =\n",
              "          await google.colab.kernel.invokeFunction('convertToInteractive',\n",
              "                                                    [key], {});\n",
              "        if (!dataTable) return;\n",
              "\n",
              "        const docLinkHtml = 'Like what you see? Visit the ' +\n",
              "          '<a target=\"_blank\" href=https://colab.research.google.com/notebooks/data_table.ipynb>data table notebook</a>'\n",
              "          + ' to learn more about interactive tables.';\n",
              "        element.innerHTML = '';\n",
              "        dataTable['output_type'] = 'display_data';\n",
              "        await google.colab.output.renderOutput(dataTable, element);\n",
              "        const docLink = document.createElement('div');\n",
              "        docLink.innerHTML = docLinkHtml;\n",
              "        element.appendChild(docLink);\n",
              "      }\n",
              "    </script>\n",
              "  </div>\n",
              "\n",
              "\n",
              "<div id=\"df-1158b6e1-4707-48a0-9580-2ae38e7c63f3\">\n",
              "  <button class=\"colab-df-quickchart\" onclick=\"quickchart('df-1158b6e1-4707-48a0-9580-2ae38e7c63f3')\"\n",
              "            title=\"Suggest charts\"\n",
              "            style=\"display:none;\">\n",
              "\n",
              "<svg xmlns=\"http://www.w3.org/2000/svg\" height=\"24px\"viewBox=\"0 0 24 24\"\n",
              "     width=\"24px\">\n",
              "    <g>\n",
              "        <path d=\"M19 3H5c-1.1 0-2 .9-2 2v14c0 1.1.9 2 2 2h14c1.1 0 2-.9 2-2V5c0-1.1-.9-2-2-2zM9 17H7v-7h2v7zm4 0h-2V7h2v10zm4 0h-2v-4h2v4z\"/>\n",
              "    </g>\n",
              "</svg>\n",
              "  </button>\n",
              "\n",
              "<style>\n",
              "  .colab-df-quickchart {\n",
              "      --bg-color: #E8F0FE;\n",
              "      --fill-color: #1967D2;\n",
              "      --hover-bg-color: #E2EBFA;\n",
              "      --hover-fill-color: #174EA6;\n",
              "      --disabled-fill-color: #AAA;\n",
              "      --disabled-bg-color: #DDD;\n",
              "  }\n",
              "\n",
              "  [theme=dark] .colab-df-quickchart {\n",
              "      --bg-color: #3B4455;\n",
              "      --fill-color: #D2E3FC;\n",
              "      --hover-bg-color: #434B5C;\n",
              "      --hover-fill-color: #FFFFFF;\n",
              "      --disabled-bg-color: #3B4455;\n",
              "      --disabled-fill-color: #666;\n",
              "  }\n",
              "\n",
              "  .colab-df-quickchart {\n",
              "    background-color: var(--bg-color);\n",
              "    border: none;\n",
              "    border-radius: 50%;\n",
              "    cursor: pointer;\n",
              "    display: none;\n",
              "    fill: var(--fill-color);\n",
              "    height: 32px;\n",
              "    padding: 0;\n",
              "    width: 32px;\n",
              "  }\n",
              "\n",
              "  .colab-df-quickchart:hover {\n",
              "    background-color: var(--hover-bg-color);\n",
              "    box-shadow: 0 1px 2px rgba(60, 64, 67, 0.3), 0 1px 3px 1px rgba(60, 64, 67, 0.15);\n",
              "    fill: var(--button-hover-fill-color);\n",
              "  }\n",
              "\n",
              "  .colab-df-quickchart-complete:disabled,\n",
              "  .colab-df-quickchart-complete:disabled:hover {\n",
              "    background-color: var(--disabled-bg-color);\n",
              "    fill: var(--disabled-fill-color);\n",
              "    box-shadow: none;\n",
              "  }\n",
              "\n",
              "  .colab-df-spinner {\n",
              "    border: 2px solid var(--fill-color);\n",
              "    border-color: transparent;\n",
              "    border-bottom-color: var(--fill-color);\n",
              "    animation:\n",
              "      spin 1s steps(1) infinite;\n",
              "  }\n",
              "\n",
              "  @keyframes spin {\n",
              "    0% {\n",
              "      border-color: transparent;\n",
              "      border-bottom-color: var(--fill-color);\n",
              "      border-left-color: var(--fill-color);\n",
              "    }\n",
              "    20% {\n",
              "      border-color: transparent;\n",
              "      border-left-color: var(--fill-color);\n",
              "      border-top-color: var(--fill-color);\n",
              "    }\n",
              "    30% {\n",
              "      border-color: transparent;\n",
              "      border-left-color: var(--fill-color);\n",
              "      border-top-color: var(--fill-color);\n",
              "      border-right-color: var(--fill-color);\n",
              "    }\n",
              "    40% {\n",
              "      border-color: transparent;\n",
              "      border-right-color: var(--fill-color);\n",
              "      border-top-color: var(--fill-color);\n",
              "    }\n",
              "    60% {\n",
              "      border-color: transparent;\n",
              "      border-right-color: var(--fill-color);\n",
              "    }\n",
              "    80% {\n",
              "      border-color: transparent;\n",
              "      border-right-color: var(--fill-color);\n",
              "      border-bottom-color: var(--fill-color);\n",
              "    }\n",
              "    90% {\n",
              "      border-color: transparent;\n",
              "      border-bottom-color: var(--fill-color);\n",
              "    }\n",
              "  }\n",
              "</style>\n",
              "\n",
              "  <script>\n",
              "    async function quickchart(key) {\n",
              "      const quickchartButtonEl =\n",
              "        document.querySelector('#' + key + ' button');\n",
              "      quickchartButtonEl.disabled = true;  // To prevent multiple clicks.\n",
              "      quickchartButtonEl.classList.add('colab-df-spinner');\n",
              "      try {\n",
              "        const charts = await google.colab.kernel.invokeFunction(\n",
              "            'suggestCharts', [key], {});\n",
              "      } catch (error) {\n",
              "        console.error('Error during call to suggestCharts:', error);\n",
              "      }\n",
              "      quickchartButtonEl.classList.remove('colab-df-spinner');\n",
              "      quickchartButtonEl.classList.add('colab-df-quickchart-complete');\n",
              "    }\n",
              "    (() => {\n",
              "      let quickchartButtonEl =\n",
              "        document.querySelector('#df-1158b6e1-4707-48a0-9580-2ae38e7c63f3 button');\n",
              "      quickchartButtonEl.style.display =\n",
              "        google.colab.kernel.accessAllowed ? 'block' : 'none';\n",
              "    })();\n",
              "  </script>\n",
              "</div>\n",
              "    </div>\n",
              "  </div>\n"
            ],
            "application/vnd.google.colaboratory.intrinsic+json": {
              "type": "dataframe",
              "repr_error": "0"
            }
          },
          "metadata": {},
          "execution_count": 8
        }
      ]
    },
    {
      "cell_type": "markdown",
      "metadata": {
        "id": "HVb4kJLcRZg-"
      },
      "source": [
        "Wczytany zbiór należy najpierw sprawdzić, czy nie zawiera brakujących wartości metodą `isna`, a następnie zastąpić puste wartości w kolumnie `reviewText` na spacje. Potem konkatenujemy ze sobą zawartość kolumn `reviewText` oraz `summary` do nowej kolumny `reviewAll`."
      ]
    },
    {
      "cell_type": "code",
      "metadata": {
        "id": "VccKMPexReUA",
        "colab": {
          "base_uri": "https://localhost:8080/"
        },
        "outputId": "203c306f-b42f-443f-94dc-132f780bf7cf"
      },
      "source": [
        "df.isna().sum()"
      ],
      "execution_count": 9,
      "outputs": [
        {
          "output_type": "execute_result",
          "data": {
            "text/plain": [
              "reviewerID         0\n",
              "asin               0\n",
              "reviewerName      27\n",
              "helpful            0\n",
              "reviewText         7\n",
              "overall            0\n",
              "summary            0\n",
              "unixReviewTime     0\n",
              "reviewTime         0\n",
              "dtype: int64"
            ]
          },
          "metadata": {},
          "execution_count": 9
        }
      ]
    },
    {
      "cell_type": "code",
      "metadata": {
        "id": "ne8wIwCOR2uG"
      },
      "source": [
        "df['reviewText'].fillna(\" \", inplace=True)"
      ],
      "execution_count": 10,
      "outputs": []
    },
    {
      "cell_type": "code",
      "metadata": {
        "id": "iSvxhc92Suoe"
      },
      "source": [
        "df['reviewText'] = df['reviewText'] + df['summary']"
      ],
      "execution_count": 11,
      "outputs": []
    },
    {
      "cell_type": "markdown",
      "metadata": {
        "id": "EDiaDI-ZTIMg"
      },
      "source": [
        "Sprawdzamy jakie wartości znajdują się w kolumnie z etykietą overall z pomocą `value_counts`."
      ]
    },
    {
      "cell_type": "code",
      "metadata": {
        "id": "X42oSyL2VupB",
        "colab": {
          "base_uri": "https://localhost:8080/"
        },
        "outputId": "45256417-f752-45eb-8c70-22d406088df7"
      },
      "source": [
        "df['overall'].value_counts()"
      ],
      "execution_count": 12,
      "outputs": [
        {
          "output_type": "execute_result",
          "data": {
            "text/plain": [
              "5.0    6938\n",
              "4.0    2084\n",
              "3.0     772\n",
              "2.0     250\n",
              "1.0     217\n",
              "Name: overall, dtype: int64"
            ]
          },
          "metadata": {},
          "execution_count": 12
        }
      ]
    },
    {
      "cell_type": "markdown",
      "source": [
        "Musimy zamienić etykiety, tak, żeby mieć dwie oceny `0` dla klasy negatywnej i `1` dla klasy pozytywnej. Recencje z ocenami 1-3 zaklasyfikujemy jako `0`, a z ocenami 4-5 jako `1`. Napisz funkcję `convert_to_labels` i za pomocą `apply` utwórz kolumnę `labels`."
      ],
      "metadata": {
        "id": "qxCtMXWfenxX"
      }
    },
    {
      "cell_type": "code",
      "metadata": {
        "id": "P39BSK7CUOZj"
      },
      "source": [
        "def convert_to_label(value):\n",
        "  if value == 1 or value == 2 or value == 3:\n",
        "    return 0\n",
        "  else:\n",
        "    return 1\n",
        "\n",
        "df['label'] = df.overall.apply(convert_to_label)"
      ],
      "execution_count": 13,
      "outputs": []
    },
    {
      "cell_type": "markdown",
      "source": [
        "Sprawdź jak rozkłada się podział ocen z `value_counts`."
      ],
      "metadata": {
        "id": "AO8oYY5PfQka"
      }
    },
    {
      "cell_type": "code",
      "metadata": {
        "id": "gmhZ4v4BVSHi",
        "colab": {
          "base_uri": "https://localhost:8080/",
          "height": 178
        },
        "outputId": "b9faaa1b-e7a1-49d3-879f-7af88f0591ef"
      },
      "source": [
        "df.sample(3)"
      ],
      "execution_count": 14,
      "outputs": [
        {
          "output_type": "execute_result",
          "data": {
            "text/plain": [
              "          reviewerID        asin              reviewerName   helpful  \\\n",
              "1887  A1QDSJZQWJZOL1  B0002E4Z8M                    T. Cox  [38, 38]   \n",
              "7979  A2BK5M8IYNF7CV  B003JJQMD8  J. Sanabria \"Deux bleus\"    [0, 0]   \n",
              "4815  A26Y7G0VFYUYSL  B000J5XS3C             Larry Johnson    [1, 1]   \n",
              "\n",
              "                                             reviewText  overall  \\\n",
              "1887  What you need to know about this mic:1) This m...      5.0   \n",
              "7979  I bought this audio cable and all I gotta say ...      5.0   \n",
              "4815  This mixer is just what I've been looking for....      5.0   \n",
              "\n",
              "                                              summary  unixReviewTime  \\\n",
              "1887  Natural sounding, but positioning is everything      1313020800   \n",
              "7979                                      Good Stuff.      1370390400   \n",
              "4815                    First mixer. 1 word. Amazing.      1389657600   \n",
              "\n",
              "       reviewTime  label  \n",
              "1887  08 11, 2011      1  \n",
              "7979   06 5, 2013      1  \n",
              "4815  01 14, 2014      1  "
            ],
            "text/html": [
              "\n",
              "  <div id=\"df-38731f90-b0a0-4243-83cb-dae3ebccc3a8\" class=\"colab-df-container\">\n",
              "    <div>\n",
              "<style scoped>\n",
              "    .dataframe tbody tr th:only-of-type {\n",
              "        vertical-align: middle;\n",
              "    }\n",
              "\n",
              "    .dataframe tbody tr th {\n",
              "        vertical-align: top;\n",
              "    }\n",
              "\n",
              "    .dataframe thead th {\n",
              "        text-align: right;\n",
              "    }\n",
              "</style>\n",
              "<table border=\"1\" class=\"dataframe\">\n",
              "  <thead>\n",
              "    <tr style=\"text-align: right;\">\n",
              "      <th></th>\n",
              "      <th>reviewerID</th>\n",
              "      <th>asin</th>\n",
              "      <th>reviewerName</th>\n",
              "      <th>helpful</th>\n",
              "      <th>reviewText</th>\n",
              "      <th>overall</th>\n",
              "      <th>summary</th>\n",
              "      <th>unixReviewTime</th>\n",
              "      <th>reviewTime</th>\n",
              "      <th>label</th>\n",
              "    </tr>\n",
              "  </thead>\n",
              "  <tbody>\n",
              "    <tr>\n",
              "      <th>1887</th>\n",
              "      <td>A1QDSJZQWJZOL1</td>\n",
              "      <td>B0002E4Z8M</td>\n",
              "      <td>T. Cox</td>\n",
              "      <td>[38, 38]</td>\n",
              "      <td>What you need to know about this mic:1) This m...</td>\n",
              "      <td>5.0</td>\n",
              "      <td>Natural sounding, but positioning is everything</td>\n",
              "      <td>1313020800</td>\n",
              "      <td>08 11, 2011</td>\n",
              "      <td>1</td>\n",
              "    </tr>\n",
              "    <tr>\n",
              "      <th>7979</th>\n",
              "      <td>A2BK5M8IYNF7CV</td>\n",
              "      <td>B003JJQMD8</td>\n",
              "      <td>J. Sanabria \"Deux bleus\"</td>\n",
              "      <td>[0, 0]</td>\n",
              "      <td>I bought this audio cable and all I gotta say ...</td>\n",
              "      <td>5.0</td>\n",
              "      <td>Good Stuff.</td>\n",
              "      <td>1370390400</td>\n",
              "      <td>06 5, 2013</td>\n",
              "      <td>1</td>\n",
              "    </tr>\n",
              "    <tr>\n",
              "      <th>4815</th>\n",
              "      <td>A26Y7G0VFYUYSL</td>\n",
              "      <td>B000J5XS3C</td>\n",
              "      <td>Larry Johnson</td>\n",
              "      <td>[1, 1]</td>\n",
              "      <td>This mixer is just what I've been looking for....</td>\n",
              "      <td>5.0</td>\n",
              "      <td>First mixer. 1 word. Amazing.</td>\n",
              "      <td>1389657600</td>\n",
              "      <td>01 14, 2014</td>\n",
              "      <td>1</td>\n",
              "    </tr>\n",
              "  </tbody>\n",
              "</table>\n",
              "</div>\n",
              "    <div class=\"colab-df-buttons\">\n",
              "\n",
              "  <div class=\"colab-df-container\">\n",
              "    <button class=\"colab-df-convert\" onclick=\"convertToInteractive('df-38731f90-b0a0-4243-83cb-dae3ebccc3a8')\"\n",
              "            title=\"Convert this dataframe to an interactive table.\"\n",
              "            style=\"display:none;\">\n",
              "\n",
              "  <svg xmlns=\"http://www.w3.org/2000/svg\" height=\"24px\" viewBox=\"0 -960 960 960\">\n",
              "    <path d=\"M120-120v-720h720v720H120Zm60-500h600v-160H180v160Zm220 220h160v-160H400v160Zm0 220h160v-160H400v160ZM180-400h160v-160H180v160Zm440 0h160v-160H620v160ZM180-180h160v-160H180v160Zm440 0h160v-160H620v160Z\"/>\n",
              "  </svg>\n",
              "    </button>\n",
              "\n",
              "  <style>\n",
              "    .colab-df-container {\n",
              "      display:flex;\n",
              "      gap: 12px;\n",
              "    }\n",
              "\n",
              "    .colab-df-convert {\n",
              "      background-color: #E8F0FE;\n",
              "      border: none;\n",
              "      border-radius: 50%;\n",
              "      cursor: pointer;\n",
              "      display: none;\n",
              "      fill: #1967D2;\n",
              "      height: 32px;\n",
              "      padding: 0 0 0 0;\n",
              "      width: 32px;\n",
              "    }\n",
              "\n",
              "    .colab-df-convert:hover {\n",
              "      background-color: #E2EBFA;\n",
              "      box-shadow: 0px 1px 2px rgba(60, 64, 67, 0.3), 0px 1px 3px 1px rgba(60, 64, 67, 0.15);\n",
              "      fill: #174EA6;\n",
              "    }\n",
              "\n",
              "    .colab-df-buttons div {\n",
              "      margin-bottom: 4px;\n",
              "    }\n",
              "\n",
              "    [theme=dark] .colab-df-convert {\n",
              "      background-color: #3B4455;\n",
              "      fill: #D2E3FC;\n",
              "    }\n",
              "\n",
              "    [theme=dark] .colab-df-convert:hover {\n",
              "      background-color: #434B5C;\n",
              "      box-shadow: 0px 1px 3px 1px rgba(0, 0, 0, 0.15);\n",
              "      filter: drop-shadow(0px 1px 2px rgba(0, 0, 0, 0.3));\n",
              "      fill: #FFFFFF;\n",
              "    }\n",
              "  </style>\n",
              "\n",
              "    <script>\n",
              "      const buttonEl =\n",
              "        document.querySelector('#df-38731f90-b0a0-4243-83cb-dae3ebccc3a8 button.colab-df-convert');\n",
              "      buttonEl.style.display =\n",
              "        google.colab.kernel.accessAllowed ? 'block' : 'none';\n",
              "\n",
              "      async function convertToInteractive(key) {\n",
              "        const element = document.querySelector('#df-38731f90-b0a0-4243-83cb-dae3ebccc3a8');\n",
              "        const dataTable =\n",
              "          await google.colab.kernel.invokeFunction('convertToInteractive',\n",
              "                                                    [key], {});\n",
              "        if (!dataTable) return;\n",
              "\n",
              "        const docLinkHtml = 'Like what you see? Visit the ' +\n",
              "          '<a target=\"_blank\" href=https://colab.research.google.com/notebooks/data_table.ipynb>data table notebook</a>'\n",
              "          + ' to learn more about interactive tables.';\n",
              "        element.innerHTML = '';\n",
              "        dataTable['output_type'] = 'display_data';\n",
              "        await google.colab.output.renderOutput(dataTable, element);\n",
              "        const docLink = document.createElement('div');\n",
              "        docLink.innerHTML = docLinkHtml;\n",
              "        element.appendChild(docLink);\n",
              "      }\n",
              "    </script>\n",
              "  </div>\n",
              "\n",
              "\n",
              "<div id=\"df-c70b92af-2743-42dd-81fc-6636e0a4496f\">\n",
              "  <button class=\"colab-df-quickchart\" onclick=\"quickchart('df-c70b92af-2743-42dd-81fc-6636e0a4496f')\"\n",
              "            title=\"Suggest charts\"\n",
              "            style=\"display:none;\">\n",
              "\n",
              "<svg xmlns=\"http://www.w3.org/2000/svg\" height=\"24px\"viewBox=\"0 0 24 24\"\n",
              "     width=\"24px\">\n",
              "    <g>\n",
              "        <path d=\"M19 3H5c-1.1 0-2 .9-2 2v14c0 1.1.9 2 2 2h14c1.1 0 2-.9 2-2V5c0-1.1-.9-2-2-2zM9 17H7v-7h2v7zm4 0h-2V7h2v10zm4 0h-2v-4h2v4z\"/>\n",
              "    </g>\n",
              "</svg>\n",
              "  </button>\n",
              "\n",
              "<style>\n",
              "  .colab-df-quickchart {\n",
              "      --bg-color: #E8F0FE;\n",
              "      --fill-color: #1967D2;\n",
              "      --hover-bg-color: #E2EBFA;\n",
              "      --hover-fill-color: #174EA6;\n",
              "      --disabled-fill-color: #AAA;\n",
              "      --disabled-bg-color: #DDD;\n",
              "  }\n",
              "\n",
              "  [theme=dark] .colab-df-quickchart {\n",
              "      --bg-color: #3B4455;\n",
              "      --fill-color: #D2E3FC;\n",
              "      --hover-bg-color: #434B5C;\n",
              "      --hover-fill-color: #FFFFFF;\n",
              "      --disabled-bg-color: #3B4455;\n",
              "      --disabled-fill-color: #666;\n",
              "  }\n",
              "\n",
              "  .colab-df-quickchart {\n",
              "    background-color: var(--bg-color);\n",
              "    border: none;\n",
              "    border-radius: 50%;\n",
              "    cursor: pointer;\n",
              "    display: none;\n",
              "    fill: var(--fill-color);\n",
              "    height: 32px;\n",
              "    padding: 0;\n",
              "    width: 32px;\n",
              "  }\n",
              "\n",
              "  .colab-df-quickchart:hover {\n",
              "    background-color: var(--hover-bg-color);\n",
              "    box-shadow: 0 1px 2px rgba(60, 64, 67, 0.3), 0 1px 3px 1px rgba(60, 64, 67, 0.15);\n",
              "    fill: var(--button-hover-fill-color);\n",
              "  }\n",
              "\n",
              "  .colab-df-quickchart-complete:disabled,\n",
              "  .colab-df-quickchart-complete:disabled:hover {\n",
              "    background-color: var(--disabled-bg-color);\n",
              "    fill: var(--disabled-fill-color);\n",
              "    box-shadow: none;\n",
              "  }\n",
              "\n",
              "  .colab-df-spinner {\n",
              "    border: 2px solid var(--fill-color);\n",
              "    border-color: transparent;\n",
              "    border-bottom-color: var(--fill-color);\n",
              "    animation:\n",
              "      spin 1s steps(1) infinite;\n",
              "  }\n",
              "\n",
              "  @keyframes spin {\n",
              "    0% {\n",
              "      border-color: transparent;\n",
              "      border-bottom-color: var(--fill-color);\n",
              "      border-left-color: var(--fill-color);\n",
              "    }\n",
              "    20% {\n",
              "      border-color: transparent;\n",
              "      border-left-color: var(--fill-color);\n",
              "      border-top-color: var(--fill-color);\n",
              "    }\n",
              "    30% {\n",
              "      border-color: transparent;\n",
              "      border-left-color: var(--fill-color);\n",
              "      border-top-color: var(--fill-color);\n",
              "      border-right-color: var(--fill-color);\n",
              "    }\n",
              "    40% {\n",
              "      border-color: transparent;\n",
              "      border-right-color: var(--fill-color);\n",
              "      border-top-color: var(--fill-color);\n",
              "    }\n",
              "    60% {\n",
              "      border-color: transparent;\n",
              "      border-right-color: var(--fill-color);\n",
              "    }\n",
              "    80% {\n",
              "      border-color: transparent;\n",
              "      border-right-color: var(--fill-color);\n",
              "      border-bottom-color: var(--fill-color);\n",
              "    }\n",
              "    90% {\n",
              "      border-color: transparent;\n",
              "      border-bottom-color: var(--fill-color);\n",
              "    }\n",
              "  }\n",
              "</style>\n",
              "\n",
              "  <script>\n",
              "    async function quickchart(key) {\n",
              "      const quickchartButtonEl =\n",
              "        document.querySelector('#' + key + ' button');\n",
              "      quickchartButtonEl.disabled = true;  // To prevent multiple clicks.\n",
              "      quickchartButtonEl.classList.add('colab-df-spinner');\n",
              "      try {\n",
              "        const charts = await google.colab.kernel.invokeFunction(\n",
              "            'suggestCharts', [key], {});\n",
              "      } catch (error) {\n",
              "        console.error('Error during call to suggestCharts:', error);\n",
              "      }\n",
              "      quickchartButtonEl.classList.remove('colab-df-spinner');\n",
              "      quickchartButtonEl.classList.add('colab-df-quickchart-complete');\n",
              "    }\n",
              "    (() => {\n",
              "      let quickchartButtonEl =\n",
              "        document.querySelector('#df-c70b92af-2743-42dd-81fc-6636e0a4496f button');\n",
              "      quickchartButtonEl.style.display =\n",
              "        google.colab.kernel.accessAllowed ? 'block' : 'none';\n",
              "    })();\n",
              "  </script>\n",
              "</div>\n",
              "    </div>\n",
              "  </div>\n"
            ],
            "application/vnd.google.colaboratory.intrinsic+json": {
              "type": "dataframe",
              "repr_error": "0"
            }
          },
          "metadata": {},
          "execution_count": 14
        }
      ]
    },
    {
      "cell_type": "code",
      "source": [
        "df['label'].value_counts()"
      ],
      "metadata": {
        "id": "3DK3rS_W_MJq",
        "colab": {
          "base_uri": "https://localhost:8080/"
        },
        "outputId": "4b266310-4d8f-4c55-cac1-f6584610c88b"
      },
      "execution_count": 15,
      "outputs": [
        {
          "output_type": "execute_result",
          "data": {
            "text/plain": [
              "1    9022\n",
              "0    1239\n",
              "Name: label, dtype: int64"
            ]
          },
          "metadata": {},
          "execution_count": 15
        }
      ]
    },
    {
      "cell_type": "markdown",
      "source": [
        "Wczytany zbiór zawiera teksty i klasę sentymentu w 2 kolumnach. Teksty należy najpierw stokenizować, a potem umieśćić w gęstej tablicy. Użyjemy to tego klasy `Tokenizer` i ustawimy w niej jakąś maksymalną ilość słów (np. 4000). Potem zatosujemy metodę `fit_on_texts` żeby przeanalizować kolumnę z tekstami i na końcu użyjemy metody `text_to_sequences` żeby ją zamienić na sekwencje tokenów.\n",
        "\n",
        "Potem dodatkowo musimy jeszcze zastosować metodę `pad_sequences` żeby wyrównać długość wszystkich zdań do tego samego rozmiaru (żeby je można umieścić w macierzy) - maksymalną długość ustaw na 100:"
      ],
      "metadata": {
        "id": "tC4vSrXNflsk"
      }
    },
    {
      "cell_type": "code",
      "metadata": {
        "id": "NQ5MYMIcdWmg",
        "colab": {
          "base_uri": "https://localhost:8080/"
        },
        "outputId": "5d8a97ba-d1d4-4d31-a0c0-20dae63fcdce"
      },
      "source": [
        "max_words = 40000\n",
        "max_len = 100\n",
        "\n",
        "tokenizer = Tokenizer(num_words=max_words)\n",
        "\n",
        "texts = df.reviewText.to_list()\n",
        "tokenizer.fit_on_texts(texts)\n",
        "sequences = tokenizer.texts_to_sequences(texts)\n",
        "\n",
        "word_index = tokenizer.word_index\n",
        "print('We have %s unique tokens.' % len(word_index))"
      ],
      "execution_count": 16,
      "outputs": [
        {
          "output_type": "stream",
          "name": "stdout",
          "text": [
            "We have 22813 unique tokens.\n"
          ]
        }
      ]
    },
    {
      "cell_type": "code",
      "source": [
        "data = pad_sequences(sequences, maxlen=max_len)\n",
        "print(data)"
      ],
      "metadata": {
        "id": "TLECfUt6Ai5j",
        "colab": {
          "base_uri": "https://localhost:8080/"
        },
        "outputId": "a5198829-d956-4e12-9a63-a0b41416e9a9"
      },
      "execution_count": 17,
      "outputs": [
        {
          "output_type": "stream",
          "name": "stdout",
          "text": [
            "[[   0    0    0 ...  195 3125   24]\n",
            " [   4    7  255 ...   10   99 7693]\n",
            " [   0    0    0 ...    1  189   40]\n",
            " ...\n",
            " [   3  860    2 ...   24    8  995]\n",
            " [  37   49 1282 ... 2182 1066  111]\n",
            " [ 124 1311  526 ... 1416   51  145]]\n"
          ]
        }
      ]
    },
    {
      "cell_type": "markdown",
      "source": [
        "Po przetworzeniu danych wejśćiowych, warto też przetworzyć dane wyjściowe (kolumnę target) używając metody `to_categorical` (ilość klas ustaw na 2):"
      ],
      "metadata": {
        "id": "aFcZPXRMg-x5"
      }
    },
    {
      "cell_type": "code",
      "source": [
        "labels = to_categorical(df['label'], num_classes=2)\n",
        "labels"
      ],
      "metadata": {
        "id": "JA0x_KEggRCQ",
        "colab": {
          "base_uri": "https://localhost:8080/"
        },
        "outputId": "da601fdf-fb04-4426-c6ff-5cdc32920281"
      },
      "execution_count": 18,
      "outputs": [
        {
          "output_type": "execute_result",
          "data": {
            "text/plain": [
              "array([[0., 1.],\n",
              "       [0., 1.],\n",
              "       [0., 1.],\n",
              "       ...,\n",
              "       [0., 1.],\n",
              "       [0., 1.],\n",
              "       [0., 1.]], dtype=float32)"
            ]
          },
          "metadata": {},
          "execution_count": 18
        }
      ]
    },
    {
      "cell_type": "markdown",
      "source": [
        "Teraz można użyć `train_test_split` tak jak w poprzednim ćwiczeniu. Ustaw żeby zbiór testowy był 10% zbioru danych i zastosuj stratyfikację i random state:"
      ],
      "metadata": {
        "id": "7UtaH46MhJV_"
      }
    },
    {
      "cell_type": "code",
      "metadata": {
        "id": "SGx060FcoVDm"
      },
      "source": [
        "X_train, X_test, y_train, y_test = train_test_split(data, labels, test_size=0.2, random_state=42, stratify=labels)"
      ],
      "execution_count": 64,
      "outputs": []
    },
    {
      "cell_type": "code",
      "source": [
        "X_train, X_val, y_train, y_val = train_test_split(X_train, y_train, test_size=0.2, random_state=42, stratify=y_train)"
      ],
      "metadata": {
        "id": "80AFbcq6G-2e"
      },
      "execution_count": 65,
      "outputs": []
    },
    {
      "cell_type": "markdown",
      "source": [],
      "metadata": {
        "id": "eN-vk0q4KQVj"
      }
    },
    {
      "cell_type": "markdown",
      "source": [
        "## Model 1 - Glove embeddings\n",
        "\n",
        "Zaczniemy od wczytania osadzeń słów do pamięci. Możemy po wczytaniu wyświetlić ich ilość."
      ],
      "metadata": {
        "id": "Yr9_gKrthSLL"
      }
    },
    {
      "cell_type": "code",
      "source": [
        "embeddings_index = dict()\n",
        "f = open('./glove.6B.100d.txt')\n",
        "for line in f:\n",
        "\tvalues = line.split()\n",
        "\tword = values[0]\n",
        "\tcoefs = np.asarray(values[1:], dtype='float32')\n",
        "\tembeddings_index[word] = coefs\n",
        "f.close()\n",
        "print(f'Loaded {len(embeddings_index)} word vectors.')"
      ],
      "metadata": {
        "id": "v9KfPujymmam",
        "colab": {
          "base_uri": "https://localhost:8080/"
        },
        "outputId": "ff17db62-f773-4ec1-efa4-eb14cad68864"
      },
      "execution_count": 21,
      "outputs": [
        {
          "output_type": "stream",
          "name": "stdout",
          "text": [
            "Loaded 400000 word vectors.\n"
          ]
        }
      ]
    },
    {
      "cell_type": "markdown",
      "source": [
        "Następnie stworzymy macierz ebeddingów korzystając z wytrenowanych wektorów Glove, które korzystając z ogólnego występowania słów w korpusie do modelowania relacji."
      ],
      "metadata": {
        "id": "VC-sVJCboJTh"
      }
    },
    {
      "cell_type": "code",
      "metadata": {
        "id": "9SFMT848fR4g",
        "colab": {
          "base_uri": "https://localhost:8080/"
        },
        "outputId": "cee74ea9-8608-48f8-c1f9-dcd0433d2630"
      },
      "source": [
        "# sprawdzamy wielkość słownika\n",
        "vocab = tokenizer.sequences_to_texts(texts)\n",
        "vocab_size = len(tokenizer.word_index) + 1 # Dodajemy 1 bo indeks 0 jest już zarezerwowany\n",
        "print(vocab_size)\n",
        "\n",
        "# tworzymy macierz\n",
        "embedding_matrix = np.zeros((vocab_size, 100))\n",
        "for word, i in tokenizer.word_index.items():\n",
        "\tembedding_vector = embeddings_index.get(word)\n",
        "\tif embedding_vector is not None:\n",
        "\t\tembedding_matrix[i] = embedding_vector"
      ],
      "execution_count": 22,
      "outputs": [
        {
          "output_type": "stream",
          "name": "stdout",
          "text": [
            "22814\n"
          ]
        }
      ]
    },
    {
      "cell_type": "markdown",
      "source": [
        "Użyj klasy `Sequential` żeby stworyć model i dodaj do niego kolejno warstwy:\n",
        "1. `Input` - to zainicjalizuje tensor Kerasa, jako `shape` podaj krotkę jednoelementową `(max_len,)`, dodatkowo podaj typ danych `dtype='int32'`\n",
        "2. `Embedding` - to zamieni sekwencję tokenów na kodowanie wektorowe, przekaż jako `input_dim` wielkość słownika czyli `vocab_size`, `output_dim` ustaw na 100, bo korzystamy z modelu Glove 100d, `weights` - przekaż macierz z embeddingiem, `input_length=max_len` oraz `trainable=True`\n",
        "3. `Flatten` - to zmiejszy wyjście to tensora 1D\n",
        "4. `Dense` - ustaw ilość komórek na 100 i funkcję aktywacji \"relu\"\n",
        "5. `Dense` - ustaw ilość komórek na 32 i funkcję aktywacji \"relu\"\n",
        "6. `Dense` - ustaw ilość komórek na 2 i funkcję aktywacji \"softmax\", która zbierze wszystkie wyjścia do klasyfikacji.\n",
        "\n",
        "Po stworzeniu modelu, skompiluj go używając optimizera `'adam'`, funkcję kosztu `'categorical_crossentropy'` oraz dodaj `['accuracy']` do metryk.\n",
        "\n",
        "Na koniec uruchom metodę `fit` na danych treningowych i jako walidacyjne podaj dane testowe. Uruchom procedurę wstępnie na 5 epok, dodat `bacth_size=32` oraz `verbose=True`:"
      ],
      "metadata": {
        "id": "2WkvappCiS4K"
      }
    },
    {
      "cell_type": "code",
      "source": [
        "model1 = Sequential()\n",
        "\n",
        "model1.add(layers.Input(shape=(max_len), dtype='int32', name='review_input'))\n",
        "model1.add(layers.Embedding(input_dim=vocab_size, output_dim=100, weights=[embedding_matrix], input_length=max_len, trainable=True))\n",
        "model1.add(layers.Flatten())\n",
        "model1.add(layers.Dense(units=100, activation='relu'))\n",
        "model1.add(layers.Dense(units=32, activation='relu'))\n",
        "model1.add(layers.Dense(units=2, activation='softmax'))\n",
        "\n",
        "model1.compile(optimizer='adam', loss='categorical_crossentropy', metrics=['accuracy'])"
      ],
      "metadata": {
        "id": "vqZzY1FsZ1-W"
      },
      "execution_count": 23,
      "outputs": []
    },
    {
      "cell_type": "code",
      "metadata": {
        "id": "_CqoEzgq5c9F",
        "colab": {
          "base_uri": "https://localhost:8080/",
          "height": 1000
        },
        "outputId": "eb5d65b9-d611-4272-cfad-0adcf9e7e3dc"
      },
      "source": [
        "print(model1.summary())\n",
        "SVG(model_to_dot(model1).create(prog='dot', format='svg'))"
      ],
      "execution_count": 24,
      "outputs": [
        {
          "output_type": "stream",
          "name": "stdout",
          "text": [
            "Model: \"sequential\"\n",
            "_________________________________________________________________\n",
            " Layer (type)                Output Shape              Param #   \n",
            "=================================================================\n",
            " embedding (Embedding)       (None, 100, 100)          2281400   \n",
            "                                                                 \n",
            " flatten (Flatten)           (None, 10000)             0         \n",
            "                                                                 \n",
            " dense (Dense)               (None, 100)               1000100   \n",
            "                                                                 \n",
            " dense_1 (Dense)             (None, 32)                3232      \n",
            "                                                                 \n",
            " dense_2 (Dense)             (None, 2)                 66        \n",
            "                                                                 \n",
            "=================================================================\n",
            "Total params: 3284798 (12.53 MB)\n",
            "Trainable params: 3284798 (12.53 MB)\n",
            "Non-trainable params: 0 (0.00 Byte)\n",
            "_________________________________________________________________\n",
            "None\n"
          ]
        },
        {
          "output_type": "execute_result",
          "data": {
            "text/plain": [
              "<IPython.core.display.SVG object>"
            ],
            "image/svg+xml": "<svg xmlns=\"http://www.w3.org/2000/svg\" xmlns:xlink=\"http://www.w3.org/1999/xlink\" width=\"231pt\" height=\"547pt\" viewBox=\"0.00 0.00 173.00 410.00\">\n<g id=\"graph0\" class=\"graph\" transform=\"scale(0.75 0.75) rotate(0) translate(4 406)\">\n<title>G</title>\n<polygon fill=\"white\" stroke=\"transparent\" points=\"-4,4 -4,-406 169,-406 169,4 -4,4\"/>\n<!-- 138708014665488 -->\n<g id=\"node1\" class=\"node\">\n<title>138708014665488</title>\n<polygon fill=\"none\" stroke=\"black\" points=\"0,-365.5 0,-401.5 165,-401.5 165,-365.5 0,-365.5\"/>\n<text text-anchor=\"middle\" x=\"44\" y=\"-379.8\" font-family=\"Times,serif\" font-size=\"14.00\">review_input</text>\n<polyline fill=\"none\" stroke=\"black\" points=\"88,-365.5 88,-401.5 \"/>\n<text text-anchor=\"middle\" x=\"126.5\" y=\"-379.8\" font-family=\"Times,serif\" font-size=\"14.00\">InputLayer</text>\n</g>\n<!-- 138708014676240 -->\n<g id=\"node2\" class=\"node\">\n<title>138708014676240</title>\n<polygon fill=\"none\" stroke=\"black\" points=\"4,-292.5 4,-328.5 161,-328.5 161,-292.5 4,-292.5\"/>\n<text text-anchor=\"middle\" x=\"42.5\" y=\"-306.8\" font-family=\"Times,serif\" font-size=\"14.00\">embedding</text>\n<polyline fill=\"none\" stroke=\"black\" points=\"81,-292.5 81,-328.5 \"/>\n<text text-anchor=\"middle\" x=\"121\" y=\"-306.8\" font-family=\"Times,serif\" font-size=\"14.00\">Embedding</text>\n</g>\n<!-- 138708014665488&#45;&gt;138708014676240 -->\n<g id=\"edge1\" class=\"edge\">\n<title>138708014665488-&gt;138708014676240</title>\n<path fill=\"none\" stroke=\"black\" d=\"M82.5,-365.31C82.5,-357.29 82.5,-347.55 82.5,-338.57\"/>\n<polygon fill=\"black\" stroke=\"black\" points=\"86,-338.53 82.5,-328.53 79,-338.53 86,-338.53\"/>\n</g>\n<!-- 138707969987088 -->\n<g id=\"node3\" class=\"node\">\n<title>138707969987088</title>\n<polygon fill=\"none\" stroke=\"black\" points=\"30,-219.5 30,-255.5 135,-255.5 135,-219.5 30,-219.5\"/>\n<text text-anchor=\"middle\" x=\"55.5\" y=\"-233.8\" font-family=\"Times,serif\" font-size=\"14.00\">flatten</text>\n<polyline fill=\"none\" stroke=\"black\" points=\"81,-219.5 81,-255.5 \"/>\n<text text-anchor=\"middle\" x=\"108\" y=\"-233.8\" font-family=\"Times,serif\" font-size=\"14.00\">Flatten</text>\n</g>\n<!-- 138708014676240&#45;&gt;138707969987088 -->\n<g id=\"edge2\" class=\"edge\">\n<title>138708014676240-&gt;138707969987088</title>\n<path fill=\"none\" stroke=\"black\" d=\"M82.5,-292.31C82.5,-284.29 82.5,-274.55 82.5,-265.57\"/>\n<polygon fill=\"black\" stroke=\"black\" points=\"86,-265.53 82.5,-255.53 79,-265.53 86,-265.53\"/>\n</g>\n<!-- 138707969988960 -->\n<g id=\"node4\" class=\"node\">\n<title>138707969988960</title>\n<polygon fill=\"none\" stroke=\"black\" points=\"34,-146.5 34,-182.5 131,-182.5 131,-146.5 34,-146.5\"/>\n<text text-anchor=\"middle\" x=\"57.5\" y=\"-160.8\" font-family=\"Times,serif\" font-size=\"14.00\">dense</text>\n<polyline fill=\"none\" stroke=\"black\" points=\"81,-146.5 81,-182.5 \"/>\n<text text-anchor=\"middle\" x=\"106\" y=\"-160.8\" font-family=\"Times,serif\" font-size=\"14.00\">Dense</text>\n</g>\n<!-- 138707969987088&#45;&gt;138707969988960 -->\n<g id=\"edge3\" class=\"edge\">\n<title>138707969987088-&gt;138707969988960</title>\n<path fill=\"none\" stroke=\"black\" d=\"M82.5,-219.31C82.5,-211.29 82.5,-201.55 82.5,-192.57\"/>\n<polygon fill=\"black\" stroke=\"black\" points=\"86,-192.53 82.5,-182.53 79,-192.53 86,-192.53\"/>\n</g>\n<!-- 138707969991312 -->\n<g id=\"node5\" class=\"node\">\n<title>138707969991312</title>\n<polygon fill=\"none\" stroke=\"black\" points=\"27,-73.5 27,-109.5 138,-109.5 138,-73.5 27,-73.5\"/>\n<text text-anchor=\"middle\" x=\"57.5\" y=\"-87.8\" font-family=\"Times,serif\" font-size=\"14.00\">dense_1</text>\n<polyline fill=\"none\" stroke=\"black\" points=\"88,-73.5 88,-109.5 \"/>\n<text text-anchor=\"middle\" x=\"113\" y=\"-87.8\" font-family=\"Times,serif\" font-size=\"14.00\">Dense</text>\n</g>\n<!-- 138707969988960&#45;&gt;138707969991312 -->\n<g id=\"edge4\" class=\"edge\">\n<title>138707969988960-&gt;138707969991312</title>\n<path fill=\"none\" stroke=\"black\" d=\"M82.5,-146.31C82.5,-138.29 82.5,-128.55 82.5,-119.57\"/>\n<polygon fill=\"black\" stroke=\"black\" points=\"86,-119.53 82.5,-109.53 79,-119.53 86,-119.53\"/>\n</g>\n<!-- 138707969988048 -->\n<g id=\"node6\" class=\"node\">\n<title>138707969988048</title>\n<polygon fill=\"none\" stroke=\"black\" points=\"27,-0.5 27,-36.5 138,-36.5 138,-0.5 27,-0.5\"/>\n<text text-anchor=\"middle\" x=\"57.5\" y=\"-14.8\" font-family=\"Times,serif\" font-size=\"14.00\">dense_2</text>\n<polyline fill=\"none\" stroke=\"black\" points=\"88,-0.5 88,-36.5 \"/>\n<text text-anchor=\"middle\" x=\"113\" y=\"-14.8\" font-family=\"Times,serif\" font-size=\"14.00\">Dense</text>\n</g>\n<!-- 138707969991312&#45;&gt;138707969988048 -->\n<g id=\"edge5\" class=\"edge\">\n<title>138707969991312-&gt;138707969988048</title>\n<path fill=\"none\" stroke=\"black\" d=\"M82.5,-73.31C82.5,-65.29 82.5,-55.55 82.5,-46.57\"/>\n<polygon fill=\"black\" stroke=\"black\" points=\"86,-46.53 82.5,-36.53 79,-46.53 86,-46.53\"/>\n</g>\n</g>\n</svg>"
          },
          "metadata": {},
          "execution_count": 24
        }
      ]
    },
    {
      "cell_type": "code",
      "source": [
        "history1 = model1.fit(X_train,y_train, epochs=5, batch_size=32, verbose = True, validation_data=(X_val, y_val))"
      ],
      "metadata": {
        "id": "RuBTyt_tEid8",
        "colab": {
          "base_uri": "https://localhost:8080/"
        },
        "outputId": "6e71ebbb-aa2e-4672-c6d7-8755ced30a0e"
      },
      "execution_count": 25,
      "outputs": [
        {
          "output_type": "stream",
          "name": "stdout",
          "text": [
            "Epoch 1/5\n",
            "206/206 [==============================] - 14s 61ms/step - loss: 0.3712 - accuracy: 0.8754 - val_loss: 0.3212 - val_accuracy: 0.8794\n",
            "Epoch 2/5\n",
            "206/206 [==============================] - 15s 72ms/step - loss: 0.2267 - accuracy: 0.9103 - val_loss: 0.4055 - val_accuracy: 0.8812\n",
            "Epoch 3/5\n",
            "206/206 [==============================] - 10s 48ms/step - loss: 0.1036 - accuracy: 0.9595 - val_loss: 0.3928 - val_accuracy: 0.8788\n",
            "Epoch 4/5\n",
            "206/206 [==============================] - 13s 64ms/step - loss: 0.0184 - accuracy: 0.9945 - val_loss: 0.5534 - val_accuracy: 0.8806\n",
            "Epoch 5/5\n",
            "206/206 [==============================] - 15s 71ms/step - loss: 0.0035 - accuracy: 0.9997 - val_loss: 0.6249 - val_accuracy: 0.8800\n"
          ]
        }
      ]
    },
    {
      "cell_type": "markdown",
      "source": [
        "## Model 2 - word2vec"
      ],
      "metadata": {
        "id": "ledIulg1hXor"
      }
    },
    {
      "cell_type": "markdown",
      "source": [
        "Wczytujemy embeddingi z word2vec, które są oparte na relacjach słów w kontekście. Mamy \"okno\", przez które oglądamy fragment tekstu w korpusie."
      ],
      "metadata": {
        "id": "DHcpFeYIpVul"
      }
    },
    {
      "cell_type": "markdown",
      "source": [],
      "metadata": {
        "id": "MluBB4embYhp"
      }
    },
    {
      "cell_type": "code",
      "source": [
        "path_to_data = '/content/drive/MyDrive/ZUM/02/GoogleNews-vectors-negative300.bin.gz'"
      ],
      "metadata": {
        "id": "ybjHloNcGE-k"
      },
      "execution_count": 26,
      "outputs": []
    },
    {
      "cell_type": "code",
      "metadata": {
        "id": "zteW06lbmPCf",
        "colab": {
          "base_uri": "https://localhost:8080/"
        },
        "outputId": "546ed9cb-daaf-4888-bead-b2aaa9f1637e"
      },
      "source": [
        "embeddings_wv = gensim.models.KeyedVectors.load_word2vec_format(f\"{path_to_data}\", binary=True)\n",
        "embeddings_wv.init_sims(replace=True)\n",
        "embeddings_ap = api.load(\"glove-wiki-gigaword-100\")"
      ],
      "execution_count": 27,
      "outputs": [
        {
          "output_type": "stream",
          "name": "stderr",
          "text": [
            "<ipython-input-27-8e30713ab5ef>:2: DeprecationWarning: Call to deprecated `init_sims` (Use fill_norms() instead. See https://github.com/RaRe-Technologies/gensim/wiki/Migrating-from-Gensim-3.x-to-4).\n",
            "  embeddings_wv.init_sims(replace=True)\n",
            "WARNING:gensim.models.keyedvectors:destructive init_sims(replace=True) deprecated & no longer required for space-efficiency\n"
          ]
        },
        {
          "output_type": "stream",
          "name": "stdout",
          "text": [
            "[==================================================] 100.0% 128.1/128.1MB downloaded\n"
          ]
        }
      ]
    },
    {
      "cell_type": "code",
      "metadata": {
        "id": "Aw1viOOPmvXO"
      },
      "source": [
        "# vocab = tokenizer.sequences_to_texts(texts)\n",
        "# vocab_size = len(tokenizer.word_index) + 1\n",
        "# print(vocab_size)\n",
        "\n",
        "# tworzymy macierz\n",
        "embedding_matrix = np.zeros((vocab_size, 100))\n",
        "for word, i in tokenizer.word_index.items():\n",
        "\ttry:\n",
        "\t\tembedding_vector = embeddings_ap[word]\n",
        "\t\tif embedding_vector is not None:\n",
        "\t\t\tembedding_matrix[i] = embedding_vector\n",
        "\texcept:\n",
        "\t\tpass"
      ],
      "execution_count": 28,
      "outputs": []
    },
    {
      "cell_type": "markdown",
      "source": [
        "Użyj klasy `Sequential` żeby stworyć model i dodaj do niego kolejno warstwy:\n",
        "1. `Input` - to zainicjalizuje tensor Kerasa, jako `shape` podaj krotkę jednoelementową `(max_len,)`, dodatkowo podaj typ danych `dtype='int32'`\n",
        "2. `Embedding` - to zamieni sekwencję tokenów na kodowanie wektorowe, przekaż jako `input_dim` wielkość słownika czyli `vocab_size`, `output_dim` ustaw na 100, bo korzystamy z modelu word2vec 100d, `weights` - przekaż macierz z embeddingiem, `input_length=max_len` oraz `trainable=True`\n",
        "3. `Flatten` - to zmiejszy wyjście to tensora 1D\n",
        "4. `Dense` - ustaw ilość komórek na 100 i funkcję aktywacji \"relu\"\n",
        "5. `Dense` - ustaw ilość komórek na 32 i funkcję aktywacji \"relu\"\n",
        "6. `Dense` - ustaw ilość komórek na 2 i funkcję aktywacji \"softmax\", która zbierze wszystkie wyjścia do klasyfikacji.\n",
        "\n",
        "Po stworzeniu modelu, skompiluj go używając optimizera `'adam'`, funkcję kosztu `'categorical_crossentropy'` oraz dodaj `['accuracy']` do metryk.\n",
        "\n",
        "Na koniec uruchom metodę `fit` na danych treningowych i jako walidacyjne podaj dane testowe. Uruchom procedurę wstępnie na 5 epok, dodat `bacth_size=32` oraz `verbose=True`:"
      ],
      "metadata": {
        "id": "lJhYTb07ldKN"
      }
    },
    {
      "cell_type": "code",
      "source": [
        "model2 = Sequential()\n",
        "\n",
        "model2.add(layers.Input(shape=(max_len), dtype='int32', name='review_input'))\n",
        "model2.add(layers.Embedding(input_dim=vocab_size, output_dim=100, weights=[embedding_matrix], input_length=max_len, trainable=True))\n",
        "model2.add(layers.Flatten())\n",
        "model2.add(layers.Dense(units=100, activation='relu'))\n",
        "model2.add(layers.Dense(units=32, activation='relu'))\n",
        "model2.add(layers.Dense(units=2, activation='softmax'))\n",
        "\n",
        "model2.compile(optimizer='adam', loss='categorical_crossentropy', metrics=['accuracy'])"
      ],
      "metadata": {
        "id": "vgpfrtjscdhg"
      },
      "execution_count": 29,
      "outputs": []
    },
    {
      "cell_type": "code",
      "metadata": {
        "id": "dh-L1xzByTZq",
        "colab": {
          "base_uri": "https://localhost:8080/",
          "height": 1000
        },
        "outputId": "24985fbb-3dd0-4206-9007-cad0a5c202a3"
      },
      "source": [
        "print(model2.summary())\n",
        "SVG(model_to_dot(model2).create(prog='dot', format='svg'))"
      ],
      "execution_count": 30,
      "outputs": [
        {
          "output_type": "stream",
          "name": "stdout",
          "text": [
            "Model: \"sequential_1\"\n",
            "_________________________________________________________________\n",
            " Layer (type)                Output Shape              Param #   \n",
            "=================================================================\n",
            " embedding_1 (Embedding)     (None, 100, 100)          2281400   \n",
            "                                                                 \n",
            " flatten_1 (Flatten)         (None, 10000)             0         \n",
            "                                                                 \n",
            " dense_3 (Dense)             (None, 100)               1000100   \n",
            "                                                                 \n",
            " dense_4 (Dense)             (None, 32)                3232      \n",
            "                                                                 \n",
            " dense_5 (Dense)             (None, 2)                 66        \n",
            "                                                                 \n",
            "=================================================================\n",
            "Total params: 3284798 (12.53 MB)\n",
            "Trainable params: 3284798 (12.53 MB)\n",
            "Non-trainable params: 0 (0.00 Byte)\n",
            "_________________________________________________________________\n",
            "None\n"
          ]
        },
        {
          "output_type": "execute_result",
          "data": {
            "text/plain": [
              "<IPython.core.display.SVG object>"
            ],
            "image/svg+xml": "<svg xmlns=\"http://www.w3.org/2000/svg\" xmlns:xlink=\"http://www.w3.org/1999/xlink\" width=\"239pt\" height=\"547pt\" viewBox=\"0.00 0.00 179.00 410.00\">\n<g id=\"graph0\" class=\"graph\" transform=\"scale(0.75 0.75) rotate(0) translate(4 406)\">\n<title>G</title>\n<polygon fill=\"white\" stroke=\"transparent\" points=\"-4,4 -4,-406 175,-406 175,4 -4,4\"/>\n<!-- 138707853988896 -->\n<g id=\"node1\" class=\"node\">\n<title>138707853988896</title>\n<polygon fill=\"none\" stroke=\"black\" points=\"3,-365.5 3,-401.5 168,-401.5 168,-365.5 3,-365.5\"/>\n<text text-anchor=\"middle\" x=\"47\" y=\"-379.8\" font-family=\"Times,serif\" font-size=\"14.00\">review_input</text>\n<polyline fill=\"none\" stroke=\"black\" points=\"91,-365.5 91,-401.5 \"/>\n<text text-anchor=\"middle\" x=\"129.5\" y=\"-379.8\" font-family=\"Times,serif\" font-size=\"14.00\">InputLayer</text>\n</g>\n<!-- 138708037942960 -->\n<g id=\"node2\" class=\"node\">\n<title>138708037942960</title>\n<polygon fill=\"none\" stroke=\"black\" points=\"0,-292.5 0,-328.5 171,-328.5 171,-292.5 0,-292.5\"/>\n<text text-anchor=\"middle\" x=\"45.5\" y=\"-306.8\" font-family=\"Times,serif\" font-size=\"14.00\">embedding_1</text>\n<polyline fill=\"none\" stroke=\"black\" points=\"91,-292.5 91,-328.5 \"/>\n<text text-anchor=\"middle\" x=\"131\" y=\"-306.8\" font-family=\"Times,serif\" font-size=\"14.00\">Embedding</text>\n</g>\n<!-- 138707853988896&#45;&gt;138708037942960 -->\n<g id=\"edge1\" class=\"edge\">\n<title>138707853988896-&gt;138708037942960</title>\n<path fill=\"none\" stroke=\"black\" d=\"M85.5,-365.31C85.5,-357.29 85.5,-347.55 85.5,-338.57\"/>\n<polygon fill=\"black\" stroke=\"black\" points=\"89,-338.53 85.5,-328.53 82,-338.53 89,-338.53\"/>\n</g>\n<!-- 138707853988128 -->\n<g id=\"node3\" class=\"node\">\n<title>138707853988128</title>\n<polygon fill=\"none\" stroke=\"black\" points=\"26,-219.5 26,-255.5 145,-255.5 145,-219.5 26,-219.5\"/>\n<text text-anchor=\"middle\" x=\"58.5\" y=\"-233.8\" font-family=\"Times,serif\" font-size=\"14.00\">flatten_1</text>\n<polyline fill=\"none\" stroke=\"black\" points=\"91,-219.5 91,-255.5 \"/>\n<text text-anchor=\"middle\" x=\"118\" y=\"-233.8\" font-family=\"Times,serif\" font-size=\"14.00\">Flatten</text>\n</g>\n<!-- 138708037942960&#45;&gt;138707853988128 -->\n<g id=\"edge2\" class=\"edge\">\n<title>138708037942960-&gt;138707853988128</title>\n<path fill=\"none\" stroke=\"black\" d=\"M85.5,-292.31C85.5,-284.29 85.5,-274.55 85.5,-265.57\"/>\n<polygon fill=\"black\" stroke=\"black\" points=\"89,-265.53 85.5,-255.53 82,-265.53 89,-265.53\"/>\n</g>\n<!-- 138707853988512 -->\n<g id=\"node4\" class=\"node\">\n<title>138707853988512</title>\n<polygon fill=\"none\" stroke=\"black\" points=\"30,-146.5 30,-182.5 141,-182.5 141,-146.5 30,-146.5\"/>\n<text text-anchor=\"middle\" x=\"60.5\" y=\"-160.8\" font-family=\"Times,serif\" font-size=\"14.00\">dense_3</text>\n<polyline fill=\"none\" stroke=\"black\" points=\"91,-146.5 91,-182.5 \"/>\n<text text-anchor=\"middle\" x=\"116\" y=\"-160.8\" font-family=\"Times,serif\" font-size=\"14.00\">Dense</text>\n</g>\n<!-- 138707853988128&#45;&gt;138707853988512 -->\n<g id=\"edge3\" class=\"edge\">\n<title>138707853988128-&gt;138707853988512</title>\n<path fill=\"none\" stroke=\"black\" d=\"M85.5,-219.31C85.5,-211.29 85.5,-201.55 85.5,-192.57\"/>\n<polygon fill=\"black\" stroke=\"black\" points=\"89,-192.53 85.5,-182.53 82,-192.53 89,-192.53\"/>\n</g>\n<!-- 138707853993408 -->\n<g id=\"node5\" class=\"node\">\n<title>138707853993408</title>\n<polygon fill=\"none\" stroke=\"black\" points=\"30,-73.5 30,-109.5 141,-109.5 141,-73.5 30,-73.5\"/>\n<text text-anchor=\"middle\" x=\"60.5\" y=\"-87.8\" font-family=\"Times,serif\" font-size=\"14.00\">dense_4</text>\n<polyline fill=\"none\" stroke=\"black\" points=\"91,-73.5 91,-109.5 \"/>\n<text text-anchor=\"middle\" x=\"116\" y=\"-87.8\" font-family=\"Times,serif\" font-size=\"14.00\">Dense</text>\n</g>\n<!-- 138707853988512&#45;&gt;138707853993408 -->\n<g id=\"edge4\" class=\"edge\">\n<title>138707853988512-&gt;138707853993408</title>\n<path fill=\"none\" stroke=\"black\" d=\"M85.5,-146.31C85.5,-138.29 85.5,-128.55 85.5,-119.57\"/>\n<polygon fill=\"black\" stroke=\"black\" points=\"89,-119.53 85.5,-109.53 82,-119.53 89,-119.53\"/>\n</g>\n<!-- 138707853988176 -->\n<g id=\"node6\" class=\"node\">\n<title>138707853988176</title>\n<polygon fill=\"none\" stroke=\"black\" points=\"30,-0.5 30,-36.5 141,-36.5 141,-0.5 30,-0.5\"/>\n<text text-anchor=\"middle\" x=\"60.5\" y=\"-14.8\" font-family=\"Times,serif\" font-size=\"14.00\">dense_5</text>\n<polyline fill=\"none\" stroke=\"black\" points=\"91,-0.5 91,-36.5 \"/>\n<text text-anchor=\"middle\" x=\"116\" y=\"-14.8\" font-family=\"Times,serif\" font-size=\"14.00\">Dense</text>\n</g>\n<!-- 138707853993408&#45;&gt;138707853988176 -->\n<g id=\"edge5\" class=\"edge\">\n<title>138707853993408-&gt;138707853988176</title>\n<path fill=\"none\" stroke=\"black\" d=\"M85.5,-73.31C85.5,-65.29 85.5,-55.55 85.5,-46.57\"/>\n<polygon fill=\"black\" stroke=\"black\" points=\"89,-46.53 85.5,-36.53 82,-46.53 89,-46.53\"/>\n</g>\n</g>\n</svg>"
          },
          "metadata": {},
          "execution_count": 30
        }
      ]
    },
    {
      "cell_type": "code",
      "source": [
        "history2 = model2.fit(X_train,\n",
        "                      y_train,\n",
        "                      epochs=5,\n",
        "                      batch_size=32,\n",
        "                      verbose=True,\n",
        "                      validation_data=(X_val, y_val))"
      ],
      "metadata": {
        "id": "kXX7ijeEHLPe",
        "colab": {
          "base_uri": "https://localhost:8080/"
        },
        "outputId": "81f7dfb5-b67a-4ff4-8bb6-fc1569c069ec"
      },
      "execution_count": 31,
      "outputs": [
        {
          "output_type": "stream",
          "name": "stdout",
          "text": [
            "Epoch 1/5\n",
            "206/206 [==============================] - 13s 57ms/step - loss: 0.3790 - accuracy: 0.8680 - val_loss: 0.3209 - val_accuracy: 0.8800\n",
            "Epoch 2/5\n",
            "206/206 [==============================] - 15s 73ms/step - loss: 0.1947 - accuracy: 0.9222 - val_loss: 0.3801 - val_accuracy: 0.8788\n",
            "Epoch 3/5\n",
            "206/206 [==============================] - 11s 52ms/step - loss: 0.0668 - accuracy: 0.9778 - val_loss: 0.4821 - val_accuracy: 0.8727\n",
            "Epoch 4/5\n",
            "206/206 [==============================] - 13s 63ms/step - loss: 0.0220 - accuracy: 0.9925 - val_loss: 0.5588 - val_accuracy: 0.8544\n",
            "Epoch 5/5\n",
            "206/206 [==============================] - 15s 72ms/step - loss: 0.0034 - accuracy: 0.9997 - val_loss: 0.7454 - val_accuracy: 0.8752\n"
          ]
        }
      ]
    },
    {
      "cell_type": "markdown",
      "source": [
        "# Model 3"
      ],
      "metadata": {
        "id": "ywAutOPwGpHx"
      }
    },
    {
      "cell_type": "code",
      "source": [
        "#Training time was ohhhhh too long\n",
        "model3 = Sequential()\n",
        "\n",
        "from tensorflow.keras.layers import Embedding, GRU, Dense, Dropout\n",
        "\n",
        "\n",
        "model3 = Sequential([\n",
        "    Embedding(input_dim=vocab_size, output_dim=100, weights=[embedding_matrix], input_length=max_len, trainable=True),\n",
        "    GRU(128, return_sequences=True),\n",
        "    GRU(128),\n",
        "    Dense(64, activation='relu'),\n",
        "    Dropout(0.5),\n",
        "    Dense(2, activation='sigmoid')\n",
        "])\n",
        "\n",
        "model3.compile(optimizer='adam', loss='categorical_crossentropy', metrics=['accuracy'])"
      ],
      "metadata": {
        "id": "yB9ao7VdGwQi"
      },
      "execution_count": 34,
      "outputs": []
    },
    {
      "cell_type": "code",
      "source": [
        "print(model3.summary())\n",
        "SVG(model_to_dot(model3).create(prog='dot', format='svg'))"
      ],
      "metadata": {
        "colab": {
          "base_uri": "https://localhost:8080/",
          "height": 1000
        },
        "id": "V3nSYBVKn3Pg",
        "outputId": "910e507a-eeac-4d71-a62b-10075d42ea07"
      },
      "execution_count": 35,
      "outputs": [
        {
          "output_type": "stream",
          "name": "stdout",
          "text": [
            "Model: \"sequential_5\"\n",
            "_________________________________________________________________\n",
            " Layer (type)                Output Shape              Param #   \n",
            "=================================================================\n",
            " embedding_3 (Embedding)     (None, 100, 100)          2281400   \n",
            "                                                                 \n",
            " gru_2 (GRU)                 (None, 100, 128)          88320     \n",
            "                                                                 \n",
            " gru_3 (GRU)                 (None, 128)               99072     \n",
            "                                                                 \n",
            " dense_6 (Dense)             (None, 64)                8256      \n",
            "                                                                 \n",
            " dropout (Dropout)           (None, 64)                0         \n",
            "                                                                 \n",
            " dense_7 (Dense)             (None, 2)                 130       \n",
            "                                                                 \n",
            "=================================================================\n",
            "Total params: 2477178 (9.45 MB)\n",
            "Trainable params: 2477178 (9.45 MB)\n",
            "Non-trainable params: 0 (0.00 Byte)\n",
            "_________________________________________________________________\n",
            "None\n"
          ]
        },
        {
          "output_type": "execute_result",
          "data": {
            "text/plain": [
              "<IPython.core.display.SVG object>"
            ],
            "image/svg+xml": "<svg xmlns=\"http://www.w3.org/2000/svg\" xmlns:xlink=\"http://www.w3.org/1999/xlink\" width=\"280pt\" height=\"644pt\" viewBox=\"0.00 0.00 210.00 483.00\">\n<g id=\"graph0\" class=\"graph\" transform=\"scale(0.75 0.75) rotate(0) translate(4 479)\">\n<title>G</title>\n<polygon fill=\"white\" stroke=\"transparent\" points=\"-4,4 -4,-479 206,-479 206,4 -4,4\"/>\n<!-- 138707924059088 -->\n<g id=\"node1\" class=\"node\">\n<title>138707924059088</title>\n<polygon fill=\"none\" stroke=\"black\" points=\"0,-438.5 0,-474.5 202,-474.5 202,-438.5 0,-438.5\"/>\n<text text-anchor=\"middle\" x=\"62.5\" y=\"-452.8\" font-family=\"Times,serif\" font-size=\"14.00\">embedding_3_input</text>\n<polyline fill=\"none\" stroke=\"black\" points=\"125,-438.5 125,-474.5 \"/>\n<text text-anchor=\"middle\" x=\"163.5\" y=\"-452.8\" font-family=\"Times,serif\" font-size=\"14.00\">InputLayer</text>\n</g>\n<!-- 138710543160832 -->\n<g id=\"node2\" class=\"node\">\n<title>138710543160832</title>\n<polygon fill=\"none\" stroke=\"black\" points=\"15.5,-365.5 15.5,-401.5 186.5,-401.5 186.5,-365.5 15.5,-365.5\"/>\n<text text-anchor=\"middle\" x=\"61\" y=\"-379.8\" font-family=\"Times,serif\" font-size=\"14.00\">embedding_3</text>\n<polyline fill=\"none\" stroke=\"black\" points=\"106.5,-365.5 106.5,-401.5 \"/>\n<text text-anchor=\"middle\" x=\"146.5\" y=\"-379.8\" font-family=\"Times,serif\" font-size=\"14.00\">Embedding</text>\n</g>\n<!-- 138707924059088&#45;&gt;138710543160832 -->\n<g id=\"edge1\" class=\"edge\">\n<title>138707924059088-&gt;138710543160832</title>\n<path fill=\"none\" stroke=\"black\" d=\"M101,-438.31C101,-430.29 101,-420.55 101,-411.57\"/>\n<polygon fill=\"black\" stroke=\"black\" points=\"104.5,-411.53 101,-401.53 97.5,-411.53 104.5,-411.53\"/>\n</g>\n<!-- 138707924597248 -->\n<g id=\"node3\" class=\"node\">\n<title>138707924597248</title>\n<polygon fill=\"none\" stroke=\"black\" points=\"54.5,-292.5 54.5,-328.5 147.5,-328.5 147.5,-292.5 54.5,-292.5\"/>\n<text text-anchor=\"middle\" x=\"78.5\" y=\"-306.8\" font-family=\"Times,serif\" font-size=\"14.00\">gru_2</text>\n<polyline fill=\"none\" stroke=\"black\" points=\"102.5,-292.5 102.5,-328.5 \"/>\n<text text-anchor=\"middle\" x=\"125\" y=\"-306.8\" font-family=\"Times,serif\" font-size=\"14.00\">GRU</text>\n</g>\n<!-- 138710543160832&#45;&gt;138707924597248 -->\n<g id=\"edge2\" class=\"edge\">\n<title>138710543160832-&gt;138707924597248</title>\n<path fill=\"none\" stroke=\"black\" d=\"M101,-365.31C101,-357.29 101,-347.55 101,-338.57\"/>\n<polygon fill=\"black\" stroke=\"black\" points=\"104.5,-338.53 101,-328.53 97.5,-338.53 104.5,-338.53\"/>\n</g>\n<!-- 138707923113280 -->\n<g id=\"node4\" class=\"node\">\n<title>138707923113280</title>\n<polygon fill=\"none\" stroke=\"black\" points=\"54.5,-219.5 54.5,-255.5 147.5,-255.5 147.5,-219.5 54.5,-219.5\"/>\n<text text-anchor=\"middle\" x=\"78.5\" y=\"-233.8\" font-family=\"Times,serif\" font-size=\"14.00\">gru_3</text>\n<polyline fill=\"none\" stroke=\"black\" points=\"102.5,-219.5 102.5,-255.5 \"/>\n<text text-anchor=\"middle\" x=\"125\" y=\"-233.8\" font-family=\"Times,serif\" font-size=\"14.00\">GRU</text>\n</g>\n<!-- 138707924597248&#45;&gt;138707923113280 -->\n<g id=\"edge3\" class=\"edge\">\n<title>138707924597248-&gt;138707923113280</title>\n<path fill=\"none\" stroke=\"black\" d=\"M101,-292.31C101,-284.29 101,-274.55 101,-265.57\"/>\n<polygon fill=\"black\" stroke=\"black\" points=\"104.5,-265.53 101,-255.53 97.5,-265.53 104.5,-265.53\"/>\n</g>\n<!-- 138707923112800 -->\n<g id=\"node5\" class=\"node\">\n<title>138707923112800</title>\n<polygon fill=\"none\" stroke=\"black\" points=\"45.5,-146.5 45.5,-182.5 156.5,-182.5 156.5,-146.5 45.5,-146.5\"/>\n<text text-anchor=\"middle\" x=\"76\" y=\"-160.8\" font-family=\"Times,serif\" font-size=\"14.00\">dense_6</text>\n<polyline fill=\"none\" stroke=\"black\" points=\"106.5,-146.5 106.5,-182.5 \"/>\n<text text-anchor=\"middle\" x=\"131.5\" y=\"-160.8\" font-family=\"Times,serif\" font-size=\"14.00\">Dense</text>\n</g>\n<!-- 138707923113280&#45;&gt;138707923112800 -->\n<g id=\"edge4\" class=\"edge\">\n<title>138707923113280-&gt;138707923112800</title>\n<path fill=\"none\" stroke=\"black\" d=\"M101,-219.31C101,-211.29 101,-201.55 101,-192.57\"/>\n<polygon fill=\"black\" stroke=\"black\" points=\"104.5,-192.53 101,-182.53 97.5,-192.53 104.5,-192.53\"/>\n</g>\n<!-- 138707923112176 -->\n<g id=\"node6\" class=\"node\">\n<title>138707923112176</title>\n<polygon fill=\"none\" stroke=\"black\" points=\"40.5,-73.5 40.5,-109.5 161.5,-109.5 161.5,-73.5 40.5,-73.5\"/>\n<text text-anchor=\"middle\" x=\"70\" y=\"-87.8\" font-family=\"Times,serif\" font-size=\"14.00\">dropout</text>\n<polyline fill=\"none\" stroke=\"black\" points=\"99.5,-73.5 99.5,-109.5 \"/>\n<text text-anchor=\"middle\" x=\"130.5\" y=\"-87.8\" font-family=\"Times,serif\" font-size=\"14.00\">Dropout</text>\n</g>\n<!-- 138707923112800&#45;&gt;138707923112176 -->\n<g id=\"edge5\" class=\"edge\">\n<title>138707923112800-&gt;138707923112176</title>\n<path fill=\"none\" stroke=\"black\" d=\"M101,-146.31C101,-138.29 101,-128.55 101,-119.57\"/>\n<polygon fill=\"black\" stroke=\"black\" points=\"104.5,-119.53 101,-109.53 97.5,-119.53 104.5,-119.53\"/>\n</g>\n<!-- 138707923114624 -->\n<g id=\"node7\" class=\"node\">\n<title>138707923114624</title>\n<polygon fill=\"none\" stroke=\"black\" points=\"45.5,-0.5 45.5,-36.5 156.5,-36.5 156.5,-0.5 45.5,-0.5\"/>\n<text text-anchor=\"middle\" x=\"76\" y=\"-14.8\" font-family=\"Times,serif\" font-size=\"14.00\">dense_7</text>\n<polyline fill=\"none\" stroke=\"black\" points=\"106.5,-0.5 106.5,-36.5 \"/>\n<text text-anchor=\"middle\" x=\"131.5\" y=\"-14.8\" font-family=\"Times,serif\" font-size=\"14.00\">Dense</text>\n</g>\n<!-- 138707923112176&#45;&gt;138707923114624 -->\n<g id=\"edge6\" class=\"edge\">\n<title>138707923112176-&gt;138707923114624</title>\n<path fill=\"none\" stroke=\"black\" d=\"M101,-73.31C101,-65.29 101,-55.55 101,-46.57\"/>\n<polygon fill=\"black\" stroke=\"black\" points=\"104.5,-46.53 101,-36.53 97.5,-46.53 104.5,-46.53\"/>\n</g>\n</g>\n</svg>"
          },
          "metadata": {},
          "execution_count": 35
        }
      ]
    },
    {
      "cell_type": "code",
      "source": [
        "history3 = model3.fit(X_train,\n",
        "                      y_train,\n",
        "                      epochs=5,\n",
        "                      batch_size=32,\n",
        "                      verbose=True,\n",
        "                      validation_data=(X_val, y_val))"
      ],
      "metadata": {
        "colab": {
          "base_uri": "https://localhost:8080/"
        },
        "id": "fGfArYKNn9aq",
        "outputId": "531f2e92-e969-48cf-f7b7-6f81c1a08d31"
      },
      "execution_count": 36,
      "outputs": [
        {
          "output_type": "stream",
          "name": "stdout",
          "text": [
            "Epoch 1/5\n",
            "206/206 [==============================] - 96s 442ms/step - loss: 0.3545 - accuracy: 0.8795 - val_loss: 0.2926 - val_accuracy: 0.8800\n",
            "Epoch 2/5\n",
            "206/206 [==============================] - 84s 407ms/step - loss: 0.2542 - accuracy: 0.8946 - val_loss: 0.2646 - val_accuracy: 0.8898\n",
            "Epoch 3/5\n",
            "206/206 [==============================] - 76s 369ms/step - loss: 0.1705 - accuracy: 0.9270 - val_loss: 0.3149 - val_accuracy: 0.8995\n",
            "Epoch 4/5\n",
            "206/206 [==============================] - 81s 394ms/step - loss: 0.0969 - accuracy: 0.9644 - val_loss: 0.3896 - val_accuracy: 0.8618\n",
            "Epoch 5/5\n",
            "206/206 [==============================] - 80s 391ms/step - loss: 0.0369 - accuracy: 0.9872 - val_loss: 0.5429 - val_accuracy: 0.8733\n"
          ]
        }
      ]
    },
    {
      "cell_type": "markdown",
      "source": [
        "# Model 4"
      ],
      "metadata": {
        "id": "uAAW3IMZC3qY"
      }
    },
    {
      "cell_type": "code",
      "source": [
        "from tensorflow.keras.layers import Embedding, Conv1D, MaxPooling1D, GlobalMaxPooling1D, Dense, Dropout\n",
        "\n",
        "\n",
        "model4 = Sequential([\n",
        "    Embedding(input_dim=vocab_size, output_dim=100, weights=[embedding_matrix], input_length=max_len, trainable=True),\n",
        "    Conv1D(128, 5, activation='relu'),\n",
        "    MaxPooling1D(5),\n",
        "    Conv1D(128, 5, activation='relu'),\n",
        "    GlobalMaxPooling1D(),\n",
        "    Dense(128, activation='relu'),\n",
        "    Dropout(0.5),\n",
        "    Dense(2, activation='sigmoid')\n",
        "])\n",
        "\n",
        "model4.compile(optimizer=Adam(learning_rate=0.001), loss='binary_crossentropy', metrics=['accuracy'])"
      ],
      "metadata": {
        "id": "q4WuYuwaCc8X"
      },
      "execution_count": 75,
      "outputs": []
    },
    {
      "cell_type": "code",
      "source": [
        "print(model4.summary())\n",
        "SVG(model_to_dot(model4).create(prog='dot', format='svg'))"
      ],
      "metadata": {
        "colab": {
          "base_uri": "https://localhost:8080/",
          "height": 1000
        },
        "id": "039DCt2kCg7A",
        "outputId": "6e280bc3-bca5-4dd7-e591-584581602e9c"
      },
      "execution_count": 76,
      "outputs": [
        {
          "output_type": "stream",
          "name": "stdout",
          "text": [
            "Model: \"sequential_62\"\n",
            "_________________________________________________________________\n",
            " Layer (type)                Output Shape              Param #   \n",
            "=================================================================\n",
            " embedding_60 (Embedding)    (None, 100, 100)          2281400   \n",
            "                                                                 \n",
            " conv1d_4 (Conv1D)           (None, 96, 128)           64128     \n",
            "                                                                 \n",
            " max_pooling1d_2 (MaxPoolin  (None, 19, 128)           0         \n",
            " g1D)                                                            \n",
            "                                                                 \n",
            " conv1d_5 (Conv1D)           (None, 15, 128)           82048     \n",
            "                                                                 \n",
            " global_max_pooling1d_2 (Gl  (None, 128)               0         \n",
            " obalMaxPooling1D)                                               \n",
            "                                                                 \n",
            " dense_125 (Dense)           (None, 128)               16512     \n",
            "                                                                 \n",
            " dropout_3 (Dropout)         (None, 128)               0         \n",
            "                                                                 \n",
            " dense_126 (Dense)           (None, 2)                 258       \n",
            "                                                                 \n",
            "=================================================================\n",
            "Total params: 2444346 (9.32 MB)\n",
            "Trainable params: 2444346 (9.32 MB)\n",
            "Non-trainable params: 0 (0.00 Byte)\n",
            "_________________________________________________________________\n",
            "None\n"
          ]
        },
        {
          "output_type": "execute_result",
          "data": {
            "text/plain": [
              "<IPython.core.display.SVG object>"
            ],
            "image/svg+xml": "<svg xmlns=\"http://www.w3.org/2000/svg\" xmlns:xlink=\"http://www.w3.org/1999/xlink\" width=\"401pt\" height=\"839pt\" viewBox=\"0.00 0.00 301.00 629.00\">\n<g id=\"graph0\" class=\"graph\" transform=\"scale(0.75 0.75) rotate(0) translate(4 625)\">\n<title>G</title>\n<polygon fill=\"white\" stroke=\"transparent\" points=\"-4,4 -4,-625 297,-625 297,4 -4,4\"/>\n<!-- 138703200582768 -->\n<g id=\"node1\" class=\"node\">\n<title>138703200582768</title>\n<polygon fill=\"none\" stroke=\"black\" points=\"42,-584.5 42,-620.5 251,-620.5 251,-584.5 42,-584.5\"/>\n<text text-anchor=\"middle\" x=\"108\" y=\"-598.8\" font-family=\"Times,serif\" font-size=\"14.00\">embedding_60_input</text>\n<polyline fill=\"none\" stroke=\"black\" points=\"174,-584.5 174,-620.5 \"/>\n<text text-anchor=\"middle\" x=\"212.5\" y=\"-598.8\" font-family=\"Times,serif\" font-size=\"14.00\">InputLayer</text>\n</g>\n<!-- 138703246091712 -->\n<g id=\"node2\" class=\"node\">\n<title>138703246091712</title>\n<polygon fill=\"none\" stroke=\"black\" points=\"57.5,-511.5 57.5,-547.5 235.5,-547.5 235.5,-511.5 57.5,-511.5\"/>\n<text text-anchor=\"middle\" x=\"106.5\" y=\"-525.8\" font-family=\"Times,serif\" font-size=\"14.00\">embedding_60</text>\n<polyline fill=\"none\" stroke=\"black\" points=\"155.5,-511.5 155.5,-547.5 \"/>\n<text text-anchor=\"middle\" x=\"195.5\" y=\"-525.8\" font-family=\"Times,serif\" font-size=\"14.00\">Embedding</text>\n</g>\n<!-- 138703200582768&#45;&gt;138703246091712 -->\n<g id=\"edge1\" class=\"edge\">\n<title>138703200582768-&gt;138703246091712</title>\n<path fill=\"none\" stroke=\"black\" d=\"M146.5,-584.31C146.5,-576.29 146.5,-566.55 146.5,-557.57\"/>\n<polygon fill=\"black\" stroke=\"black\" points=\"150,-557.53 146.5,-547.53 143,-557.53 150,-557.53\"/>\n</g>\n<!-- 138703246093488 -->\n<g id=\"node3\" class=\"node\">\n<title>138703246093488</title>\n<polygon fill=\"none\" stroke=\"black\" points=\"80.5,-438.5 80.5,-474.5 212.5,-474.5 212.5,-438.5 80.5,-438.5\"/>\n<text text-anchor=\"middle\" x=\"115.5\" y=\"-452.8\" font-family=\"Times,serif\" font-size=\"14.00\">conv1d_4</text>\n<polyline fill=\"none\" stroke=\"black\" points=\"150.5,-438.5 150.5,-474.5 \"/>\n<text text-anchor=\"middle\" x=\"181.5\" y=\"-452.8\" font-family=\"Times,serif\" font-size=\"14.00\">Conv1D</text>\n</g>\n<!-- 138703246091712&#45;&gt;138703246093488 -->\n<g id=\"edge2\" class=\"edge\">\n<title>138703246091712-&gt;138703246093488</title>\n<path fill=\"none\" stroke=\"black\" d=\"M146.5,-511.31C146.5,-503.29 146.5,-493.55 146.5,-484.57\"/>\n<polygon fill=\"black\" stroke=\"black\" points=\"150,-484.53 146.5,-474.53 143,-484.53 150,-484.53\"/>\n</g>\n<!-- 138703246088976 -->\n<g id=\"node4\" class=\"node\">\n<title>138703246088976</title>\n<polygon fill=\"none\" stroke=\"black\" points=\"38,-365.5 38,-401.5 255,-401.5 255,-365.5 38,-365.5\"/>\n<text text-anchor=\"middle\" x=\"96\" y=\"-379.8\" font-family=\"Times,serif\" font-size=\"14.00\">max_pooling1d_2</text>\n<polyline fill=\"none\" stroke=\"black\" points=\"154,-365.5 154,-401.5 \"/>\n<text text-anchor=\"middle\" x=\"204.5\" y=\"-379.8\" font-family=\"Times,serif\" font-size=\"14.00\">MaxPooling1D</text>\n</g>\n<!-- 138703246093488&#45;&gt;138703246088976 -->\n<g id=\"edge3\" class=\"edge\">\n<title>138703246093488-&gt;138703246088976</title>\n<path fill=\"none\" stroke=\"black\" d=\"M146.5,-438.31C146.5,-430.29 146.5,-420.55 146.5,-411.57\"/>\n<polygon fill=\"black\" stroke=\"black\" points=\"150,-411.53 146.5,-401.53 143,-411.53 150,-411.53\"/>\n</g>\n<!-- 138703246087968 -->\n<g id=\"node5\" class=\"node\">\n<title>138703246087968</title>\n<polygon fill=\"none\" stroke=\"black\" points=\"80.5,-292.5 80.5,-328.5 212.5,-328.5 212.5,-292.5 80.5,-292.5\"/>\n<text text-anchor=\"middle\" x=\"115.5\" y=\"-306.8\" font-family=\"Times,serif\" font-size=\"14.00\">conv1d_5</text>\n<polyline fill=\"none\" stroke=\"black\" points=\"150.5,-292.5 150.5,-328.5 \"/>\n<text text-anchor=\"middle\" x=\"181.5\" y=\"-306.8\" font-family=\"Times,serif\" font-size=\"14.00\">Conv1D</text>\n</g>\n<!-- 138703246088976&#45;&gt;138703246087968 -->\n<g id=\"edge4\" class=\"edge\">\n<title>138703246088976-&gt;138703246087968</title>\n<path fill=\"none\" stroke=\"black\" d=\"M146.5,-365.31C146.5,-357.29 146.5,-347.55 146.5,-338.57\"/>\n<polygon fill=\"black\" stroke=\"black\" points=\"150,-338.53 146.5,-328.53 143,-338.53 150,-338.53\"/>\n</g>\n<!-- 138703246085664 -->\n<g id=\"node6\" class=\"node\">\n<title>138703246085664</title>\n<polygon fill=\"none\" stroke=\"black\" points=\"0,-219.5 0,-255.5 293,-255.5 293,-219.5 0,-219.5\"/>\n<text text-anchor=\"middle\" x=\"78\" y=\"-233.8\" font-family=\"Times,serif\" font-size=\"14.00\">global_max_pooling1d_2</text>\n<polyline fill=\"none\" stroke=\"black\" points=\"156,-219.5 156,-255.5 \"/>\n<text text-anchor=\"middle\" x=\"224.5\" y=\"-233.8\" font-family=\"Times,serif\" font-size=\"14.00\">GlobalMaxPooling1D</text>\n</g>\n<!-- 138703246087968&#45;&gt;138703246085664 -->\n<g id=\"edge5\" class=\"edge\">\n<title>138703246087968-&gt;138703246085664</title>\n<path fill=\"none\" stroke=\"black\" d=\"M146.5,-292.31C146.5,-284.29 146.5,-274.55 146.5,-265.57\"/>\n<polygon fill=\"black\" stroke=\"black\" points=\"150,-265.53 146.5,-255.53 143,-265.53 150,-265.53\"/>\n</g>\n<!-- 138703246084704 -->\n<g id=\"node7\" class=\"node\">\n<title>138703246084704</title>\n<polygon fill=\"none\" stroke=\"black\" points=\"84.5,-146.5 84.5,-182.5 208.5,-182.5 208.5,-146.5 84.5,-146.5\"/>\n<text text-anchor=\"middle\" x=\"121.5\" y=\"-160.8\" font-family=\"Times,serif\" font-size=\"14.00\">dense_125</text>\n<polyline fill=\"none\" stroke=\"black\" points=\"158.5,-146.5 158.5,-182.5 \"/>\n<text text-anchor=\"middle\" x=\"183.5\" y=\"-160.8\" font-family=\"Times,serif\" font-size=\"14.00\">Dense</text>\n</g>\n<!-- 138703246085664&#45;&gt;138703246084704 -->\n<g id=\"edge6\" class=\"edge\">\n<title>138703246085664-&gt;138703246084704</title>\n<path fill=\"none\" stroke=\"black\" d=\"M146.5,-219.31C146.5,-211.29 146.5,-201.55 146.5,-192.57\"/>\n<polygon fill=\"black\" stroke=\"black\" points=\"150,-192.53 146.5,-182.53 143,-192.53 150,-192.53\"/>\n</g>\n<!-- 138703246095264 -->\n<g id=\"node8\" class=\"node\">\n<title>138703246095264</title>\n<polygon fill=\"none\" stroke=\"black\" points=\"79.5,-73.5 79.5,-109.5 213.5,-109.5 213.5,-73.5 79.5,-73.5\"/>\n<text text-anchor=\"middle\" x=\"115.5\" y=\"-87.8\" font-family=\"Times,serif\" font-size=\"14.00\">dropout_3</text>\n<polyline fill=\"none\" stroke=\"black\" points=\"151.5,-73.5 151.5,-109.5 \"/>\n<text text-anchor=\"middle\" x=\"182.5\" y=\"-87.8\" font-family=\"Times,serif\" font-size=\"14.00\">Dropout</text>\n</g>\n<!-- 138703246084704&#45;&gt;138703246095264 -->\n<g id=\"edge7\" class=\"edge\">\n<title>138703246084704-&gt;138703246095264</title>\n<path fill=\"none\" stroke=\"black\" d=\"M146.5,-146.31C146.5,-138.29 146.5,-128.55 146.5,-119.57\"/>\n<polygon fill=\"black\" stroke=\"black\" points=\"150,-119.53 146.5,-109.53 143,-119.53 150,-119.53\"/>\n</g>\n<!-- 138703200571392 -->\n<g id=\"node9\" class=\"node\">\n<title>138703200571392</title>\n<polygon fill=\"none\" stroke=\"black\" points=\"84.5,-0.5 84.5,-36.5 208.5,-36.5 208.5,-0.5 84.5,-0.5\"/>\n<text text-anchor=\"middle\" x=\"121.5\" y=\"-14.8\" font-family=\"Times,serif\" font-size=\"14.00\">dense_126</text>\n<polyline fill=\"none\" stroke=\"black\" points=\"158.5,-0.5 158.5,-36.5 \"/>\n<text text-anchor=\"middle\" x=\"183.5\" y=\"-14.8\" font-family=\"Times,serif\" font-size=\"14.00\">Dense</text>\n</g>\n<!-- 138703246095264&#45;&gt;138703200571392 -->\n<g id=\"edge8\" class=\"edge\">\n<title>138703246095264-&gt;138703200571392</title>\n<path fill=\"none\" stroke=\"black\" d=\"M146.5,-73.31C146.5,-65.29 146.5,-55.55 146.5,-46.57\"/>\n<polygon fill=\"black\" stroke=\"black\" points=\"150,-46.53 146.5,-36.53 143,-46.53 150,-46.53\"/>\n</g>\n</g>\n</svg>"
          },
          "metadata": {},
          "execution_count": 76
        }
      ]
    },
    {
      "cell_type": "code",
      "source": [
        "history4 = model4.fit(X_train,\n",
        "                      y_train,\n",
        "                      epochs=5,\n",
        "                      batch_size=32,\n",
        "                      verbose=True,\n",
        "                      validation_data=(X_val, y_val))"
      ],
      "metadata": {
        "colab": {
          "base_uri": "https://localhost:8080/"
        },
        "id": "aJSrwqkHCscf",
        "outputId": "970fbb2b-ff72-4565-a0ab-b17554eb5b80"
      },
      "execution_count": 77,
      "outputs": [
        {
          "output_type": "stream",
          "name": "stdout",
          "text": [
            "Epoch 1/5\n",
            "206/206 [==============================] - 30s 139ms/step - loss: 0.3812 - accuracy: 0.8753 - val_loss: 0.3535 - val_accuracy: 0.8794\n",
            "Epoch 2/5\n",
            "206/206 [==============================] - 28s 137ms/step - loss: 0.3201 - accuracy: 0.8794 - val_loss: 0.2922 - val_accuracy: 0.8794\n",
            "Epoch 3/5\n",
            "206/206 [==============================] - 17s 82ms/step - loss: 0.2392 - accuracy: 0.9016 - val_loss: 0.2895 - val_accuracy: 0.8843\n",
            "Epoch 4/5\n",
            "206/206 [==============================] - 22s 108ms/step - loss: 0.1322 - accuracy: 0.9487 - val_loss: 0.3954 - val_accuracy: 0.8873\n",
            "Epoch 5/5\n",
            "206/206 [==============================] - 18s 87ms/step - loss: 0.0509 - accuracy: 0.9829 - val_loss: 0.5273 - val_accuracy: 0.8916\n"
          ]
        }
      ]
    },
    {
      "cell_type": "markdown",
      "source": [
        "Ulepszenie modelu nr 4"
      ],
      "metadata": {
        "id": "dofb0n4-Vnln"
      }
    },
    {
      "cell_type": "markdown",
      "source": [
        "Dodałem EarlyStopping i warstwę dropout, ale nie pomogło to pozbyć się potecjalnego przetrenowania :("
      ],
      "metadata": {
        "id": "hsfLreZnXFau"
      }
    },
    {
      "cell_type": "code",
      "source": [
        "from tensorflow.keras.callbacks import EarlyStopping\n",
        "from tensorflow.keras.regularizers import l2\n",
        "\n",
        "def build_model(vocab_size, max_len, embedding_matrix):\n",
        "    model = Sequential([\n",
        "        Embedding(input_dim=vocab_size, output_dim=100, weights=[embedding_matrix], input_length=max_len, trainable=True),\n",
        "        Conv1D(128, 5, activation='relu', kernel_regularizer=l2(0.001)),\n",
        "        MaxPooling1D(5),\n",
        "        Conv1D(128, 5, activation='relu', kernel_regularizer=l2(0.001)),\n",
        "        GlobalMaxPooling1D(),\n",
        "        Dense(128, activation='relu', kernel_regularizer=l2(0.001)),\n",
        "        Dropout(0.5),\n",
        "        Dense(2, activation='sigmoid')\n",
        "    ])\n",
        "    return model\n",
        "\n",
        "model4 = build_model(vocab_size=vocab_size, max_len=max_len, embedding_matrix=embedding_matrix)\n",
        "\n",
        "model4.compile(optimizer=Adam(learning_rate=0.001), loss='binary_crossentropy', metrics=['accuracy'])\n",
        "\n",
        "early_stopping = EarlyStopping(monitor='val_loss', patience=3, restore_best_weights=True)"
      ],
      "metadata": {
        "id": "MddJD1QUVp7q"
      },
      "execution_count": 78,
      "outputs": []
    },
    {
      "cell_type": "code",
      "source": [
        "print(model4.summary())\n",
        "SVG(model_to_dot(model4).create(prog='dot', format='svg'))"
      ],
      "metadata": {
        "colab": {
          "base_uri": "https://localhost:8080/",
          "height": 1000
        },
        "id": "HO1ii867Wmws",
        "outputId": "1350f4b0-1831-4206-c54e-4023153d32c7"
      },
      "execution_count": 79,
      "outputs": [
        {
          "output_type": "stream",
          "name": "stdout",
          "text": [
            "Model: \"sequential_63\"\n",
            "_________________________________________________________________\n",
            " Layer (type)                Output Shape              Param #   \n",
            "=================================================================\n",
            " embedding_61 (Embedding)    (None, 100, 100)          2281400   \n",
            "                                                                 \n",
            " conv1d_6 (Conv1D)           (None, 96, 128)           64128     \n",
            "                                                                 \n",
            " max_pooling1d_3 (MaxPoolin  (None, 19, 128)           0         \n",
            " g1D)                                                            \n",
            "                                                                 \n",
            " conv1d_7 (Conv1D)           (None, 15, 128)           82048     \n",
            "                                                                 \n",
            " global_max_pooling1d_3 (Gl  (None, 128)               0         \n",
            " obalMaxPooling1D)                                               \n",
            "                                                                 \n",
            " dense_127 (Dense)           (None, 128)               16512     \n",
            "                                                                 \n",
            " dropout_4 (Dropout)         (None, 128)               0         \n",
            "                                                                 \n",
            " dense_128 (Dense)           (None, 2)                 258       \n",
            "                                                                 \n",
            "=================================================================\n",
            "Total params: 2444346 (9.32 MB)\n",
            "Trainable params: 2444346 (9.32 MB)\n",
            "Non-trainable params: 0 (0.00 Byte)\n",
            "_________________________________________________________________\n",
            "None\n"
          ]
        },
        {
          "output_type": "execute_result",
          "data": {
            "text/plain": [
              "<IPython.core.display.SVG object>"
            ],
            "image/svg+xml": "<svg xmlns=\"http://www.w3.org/2000/svg\" xmlns:xlink=\"http://www.w3.org/1999/xlink\" width=\"401pt\" height=\"839pt\" viewBox=\"0.00 0.00 301.00 629.00\">\n<g id=\"graph0\" class=\"graph\" transform=\"scale(0.75 0.75) rotate(0) translate(4 625)\">\n<title>G</title>\n<polygon fill=\"white\" stroke=\"transparent\" points=\"-4,4 -4,-625 297,-625 297,4 -4,4\"/>\n<!-- 138703152327712 -->\n<g id=\"node1\" class=\"node\">\n<title>138703152327712</title>\n<polygon fill=\"none\" stroke=\"black\" points=\"42,-584.5 42,-620.5 251,-620.5 251,-584.5 42,-584.5\"/>\n<text text-anchor=\"middle\" x=\"108\" y=\"-598.8\" font-family=\"Times,serif\" font-size=\"14.00\">embedding_61_input</text>\n<polyline fill=\"none\" stroke=\"black\" points=\"174,-584.5 174,-620.5 \"/>\n<text text-anchor=\"middle\" x=\"212.5\" y=\"-598.8\" font-family=\"Times,serif\" font-size=\"14.00\">InputLayer</text>\n</g>\n<!-- 138703203087744 -->\n<g id=\"node2\" class=\"node\">\n<title>138703203087744</title>\n<polygon fill=\"none\" stroke=\"black\" points=\"57.5,-511.5 57.5,-547.5 235.5,-547.5 235.5,-511.5 57.5,-511.5\"/>\n<text text-anchor=\"middle\" x=\"106.5\" y=\"-525.8\" font-family=\"Times,serif\" font-size=\"14.00\">embedding_61</text>\n<polyline fill=\"none\" stroke=\"black\" points=\"155.5,-511.5 155.5,-547.5 \"/>\n<text text-anchor=\"middle\" x=\"195.5\" y=\"-525.8\" font-family=\"Times,serif\" font-size=\"14.00\">Embedding</text>\n</g>\n<!-- 138703152327712&#45;&gt;138703203087744 -->\n<g id=\"edge1\" class=\"edge\">\n<title>138703152327712-&gt;138703203087744</title>\n<path fill=\"none\" stroke=\"black\" d=\"M146.5,-584.31C146.5,-576.29 146.5,-566.55 146.5,-557.57\"/>\n<polygon fill=\"black\" stroke=\"black\" points=\"150,-557.53 146.5,-547.53 143,-557.53 150,-557.53\"/>\n</g>\n<!-- 138703152325648 -->\n<g id=\"node3\" class=\"node\">\n<title>138703152325648</title>\n<polygon fill=\"none\" stroke=\"black\" points=\"80.5,-438.5 80.5,-474.5 212.5,-474.5 212.5,-438.5 80.5,-438.5\"/>\n<text text-anchor=\"middle\" x=\"115.5\" y=\"-452.8\" font-family=\"Times,serif\" font-size=\"14.00\">conv1d_6</text>\n<polyline fill=\"none\" stroke=\"black\" points=\"150.5,-438.5 150.5,-474.5 \"/>\n<text text-anchor=\"middle\" x=\"181.5\" y=\"-452.8\" font-family=\"Times,serif\" font-size=\"14.00\">Conv1D</text>\n</g>\n<!-- 138703203087744&#45;&gt;138703152325648 -->\n<g id=\"edge2\" class=\"edge\">\n<title>138703203087744-&gt;138703152325648</title>\n<path fill=\"none\" stroke=\"black\" d=\"M146.5,-511.31C146.5,-503.29 146.5,-493.55 146.5,-484.57\"/>\n<polygon fill=\"black\" stroke=\"black\" points=\"150,-484.53 146.5,-474.53 143,-484.53 150,-484.53\"/>\n</g>\n<!-- 138703204966000 -->\n<g id=\"node4\" class=\"node\">\n<title>138703204966000</title>\n<polygon fill=\"none\" stroke=\"black\" points=\"38,-365.5 38,-401.5 255,-401.5 255,-365.5 38,-365.5\"/>\n<text text-anchor=\"middle\" x=\"96\" y=\"-379.8\" font-family=\"Times,serif\" font-size=\"14.00\">max_pooling1d_3</text>\n<polyline fill=\"none\" stroke=\"black\" points=\"154,-365.5 154,-401.5 \"/>\n<text text-anchor=\"middle\" x=\"204.5\" y=\"-379.8\" font-family=\"Times,serif\" font-size=\"14.00\">MaxPooling1D</text>\n</g>\n<!-- 138703152325648&#45;&gt;138703204966000 -->\n<g id=\"edge3\" class=\"edge\">\n<title>138703152325648-&gt;138703204966000</title>\n<path fill=\"none\" stroke=\"black\" d=\"M146.5,-438.31C146.5,-430.29 146.5,-420.55 146.5,-411.57\"/>\n<polygon fill=\"black\" stroke=\"black\" points=\"150,-411.53 146.5,-401.53 143,-411.53 150,-411.53\"/>\n</g>\n<!-- 138703152319360 -->\n<g id=\"node5\" class=\"node\">\n<title>138703152319360</title>\n<polygon fill=\"none\" stroke=\"black\" points=\"80.5,-292.5 80.5,-328.5 212.5,-328.5 212.5,-292.5 80.5,-292.5\"/>\n<text text-anchor=\"middle\" x=\"115.5\" y=\"-306.8\" font-family=\"Times,serif\" font-size=\"14.00\">conv1d_7</text>\n<polyline fill=\"none\" stroke=\"black\" points=\"150.5,-292.5 150.5,-328.5 \"/>\n<text text-anchor=\"middle\" x=\"181.5\" y=\"-306.8\" font-family=\"Times,serif\" font-size=\"14.00\">Conv1D</text>\n</g>\n<!-- 138703204966000&#45;&gt;138703152319360 -->\n<g id=\"edge4\" class=\"edge\">\n<title>138703204966000-&gt;138703152319360</title>\n<path fill=\"none\" stroke=\"black\" d=\"M146.5,-365.31C146.5,-357.29 146.5,-347.55 146.5,-338.57\"/>\n<polygon fill=\"black\" stroke=\"black\" points=\"150,-338.53 146.5,-328.53 143,-338.53 150,-338.53\"/>\n</g>\n<!-- 138703152321568 -->\n<g id=\"node6\" class=\"node\">\n<title>138703152321568</title>\n<polygon fill=\"none\" stroke=\"black\" points=\"0,-219.5 0,-255.5 293,-255.5 293,-219.5 0,-219.5\"/>\n<text text-anchor=\"middle\" x=\"78\" y=\"-233.8\" font-family=\"Times,serif\" font-size=\"14.00\">global_max_pooling1d_3</text>\n<polyline fill=\"none\" stroke=\"black\" points=\"156,-219.5 156,-255.5 \"/>\n<text text-anchor=\"middle\" x=\"224.5\" y=\"-233.8\" font-family=\"Times,serif\" font-size=\"14.00\">GlobalMaxPooling1D</text>\n</g>\n<!-- 138703152319360&#45;&gt;138703152321568 -->\n<g id=\"edge5\" class=\"edge\">\n<title>138703152319360-&gt;138703152321568</title>\n<path fill=\"none\" stroke=\"black\" d=\"M146.5,-292.31C146.5,-284.29 146.5,-274.55 146.5,-265.57\"/>\n<polygon fill=\"black\" stroke=\"black\" points=\"150,-265.53 146.5,-255.53 143,-265.53 150,-265.53\"/>\n</g>\n<!-- 138703152330688 -->\n<g id=\"node7\" class=\"node\">\n<title>138703152330688</title>\n<polygon fill=\"none\" stroke=\"black\" points=\"84.5,-146.5 84.5,-182.5 208.5,-182.5 208.5,-146.5 84.5,-146.5\"/>\n<text text-anchor=\"middle\" x=\"121.5\" y=\"-160.8\" font-family=\"Times,serif\" font-size=\"14.00\">dense_127</text>\n<polyline fill=\"none\" stroke=\"black\" points=\"158.5,-146.5 158.5,-182.5 \"/>\n<text text-anchor=\"middle\" x=\"183.5\" y=\"-160.8\" font-family=\"Times,serif\" font-size=\"14.00\">Dense</text>\n</g>\n<!-- 138703152321568&#45;&gt;138703152330688 -->\n<g id=\"edge6\" class=\"edge\">\n<title>138703152321568-&gt;138703152330688</title>\n<path fill=\"none\" stroke=\"black\" d=\"M146.5,-219.31C146.5,-211.29 146.5,-201.55 146.5,-192.57\"/>\n<polygon fill=\"black\" stroke=\"black\" points=\"150,-192.53 146.5,-182.53 143,-192.53 150,-192.53\"/>\n</g>\n<!-- 138703152331072 -->\n<g id=\"node8\" class=\"node\">\n<title>138703152331072</title>\n<polygon fill=\"none\" stroke=\"black\" points=\"79.5,-73.5 79.5,-109.5 213.5,-109.5 213.5,-73.5 79.5,-73.5\"/>\n<text text-anchor=\"middle\" x=\"115.5\" y=\"-87.8\" font-family=\"Times,serif\" font-size=\"14.00\">dropout_4</text>\n<polyline fill=\"none\" stroke=\"black\" points=\"151.5,-73.5 151.5,-109.5 \"/>\n<text text-anchor=\"middle\" x=\"182.5\" y=\"-87.8\" font-family=\"Times,serif\" font-size=\"14.00\">Dropout</text>\n</g>\n<!-- 138703152330688&#45;&gt;138703152331072 -->\n<g id=\"edge7\" class=\"edge\">\n<title>138703152330688-&gt;138703152331072</title>\n<path fill=\"none\" stroke=\"black\" d=\"M146.5,-146.31C146.5,-138.29 146.5,-128.55 146.5,-119.57\"/>\n<polygon fill=\"black\" stroke=\"black\" points=\"150,-119.53 146.5,-109.53 143,-119.53 150,-119.53\"/>\n</g>\n<!-- 138703152328960 -->\n<g id=\"node9\" class=\"node\">\n<title>138703152328960</title>\n<polygon fill=\"none\" stroke=\"black\" points=\"84.5,-0.5 84.5,-36.5 208.5,-36.5 208.5,-0.5 84.5,-0.5\"/>\n<text text-anchor=\"middle\" x=\"121.5\" y=\"-14.8\" font-family=\"Times,serif\" font-size=\"14.00\">dense_128</text>\n<polyline fill=\"none\" stroke=\"black\" points=\"158.5,-0.5 158.5,-36.5 \"/>\n<text text-anchor=\"middle\" x=\"183.5\" y=\"-14.8\" font-family=\"Times,serif\" font-size=\"14.00\">Dense</text>\n</g>\n<!-- 138703152331072&#45;&gt;138703152328960 -->\n<g id=\"edge8\" class=\"edge\">\n<title>138703152331072-&gt;138703152328960</title>\n<path fill=\"none\" stroke=\"black\" d=\"M146.5,-73.31C146.5,-65.29 146.5,-55.55 146.5,-46.57\"/>\n<polygon fill=\"black\" stroke=\"black\" points=\"150,-46.53 146.5,-36.53 143,-46.53 150,-46.53\"/>\n</g>\n</g>\n</svg>"
          },
          "metadata": {},
          "execution_count": 79
        }
      ]
    },
    {
      "cell_type": "code",
      "source": [
        "history4 = model4.fit(X_train, y_train, epochs=20, batch_size=32, verbose=True, validation_data=(X_val, y_val), callbacks=[early_stopping])"
      ],
      "metadata": {
        "colab": {
          "base_uri": "https://localhost:8080/"
        },
        "id": "i7_FOmMSVuHq",
        "outputId": "f849cf8a-d0f0-47f7-b1b0-fc29eaa22f06"
      },
      "execution_count": 80,
      "outputs": [
        {
          "output_type": "stream",
          "name": "stdout",
          "text": [
            "Epoch 1/20\n",
            "206/206 [==============================] - 27s 127ms/step - loss: 0.6074 - accuracy: 0.8768 - val_loss: 0.4784 - val_accuracy: 0.8794\n",
            "Epoch 2/20\n",
            "206/206 [==============================] - 25s 122ms/step - loss: 0.4208 - accuracy: 0.8791 - val_loss: 0.3792 - val_accuracy: 0.8794\n",
            "Epoch 3/20\n",
            "206/206 [==============================] - 17s 84ms/step - loss: 0.3175 - accuracy: 0.8981 - val_loss: 0.4474 - val_accuracy: 0.7795\n",
            "Epoch 4/20\n",
            "206/206 [==============================] - 28s 138ms/step - loss: 0.2523 - accuracy: 0.9264 - val_loss: 0.3601 - val_accuracy: 0.8812\n",
            "Epoch 5/20\n",
            "206/206 [==============================] - 22s 107ms/step - loss: 0.1780 - accuracy: 0.9535 - val_loss: 0.4154 - val_accuracy: 0.8922\n",
            "Epoch 6/20\n",
            "206/206 [==============================] - 18s 88ms/step - loss: 0.1205 - accuracy: 0.9776 - val_loss: 0.4477 - val_accuracy: 0.8782\n",
            "Epoch 7/20\n",
            "206/206 [==============================] - 23s 111ms/step - loss: 0.0859 - accuracy: 0.9898 - val_loss: 0.6562 - val_accuracy: 0.8892\n"
          ]
        }
      ]
    },
    {
      "cell_type": "markdown",
      "source": [
        "# Wizualizacja i konkluzje\n",
        "\n",
        "Narysuj historię oraz wyniki powyższych 3 modeli."
      ],
      "metadata": {
        "id": "T83deXeCyipx"
      }
    },
    {
      "cell_type": "code",
      "source": [
        "!pip install plot_keras_history"
      ],
      "metadata": {
        "id": "jos7FSyJINU7"
      },
      "execution_count": null,
      "outputs": []
    },
    {
      "cell_type": "code",
      "source": [
        "from plot_keras_history import show_history, plot_history\n",
        "import matplotlib.pyplot as plt\n",
        "\n",
        "show_history(history1)\n",
        "plot_history(history1)\n",
        "plt.close()"
      ],
      "metadata": {
        "id": "y_IneQtDIffJ",
        "colab": {
          "base_uri": "https://localhost:8080/",
          "height": 528
        },
        "outputId": "3cd14b26-f479-492a-8f5c-4766a2e998b2"
      },
      "execution_count": 42,
      "outputs": [
        {
          "output_type": "display_data",
          "data": {
            "text/plain": [
              "<Figure size 1000x500 with 2 Axes>"
            ],
            "image/png": "[encoded data removed]"
          },
          "metadata": {}
        }
      ]
    },
    {
      "cell_type": "code",
      "source": [
        "show_history(history2)\n",
        "plot_history(history2)\n",
        "plt.close()"
      ],
      "metadata": {
        "id": "gSuJj0lvIgrK",
        "colab": {
          "base_uri": "https://localhost:8080/",
          "height": 528
        },
        "outputId": "f5ff7c50-e454-42ed-e295-0a035768e429"
      },
      "execution_count": 43,
      "outputs": [
        {
          "output_type": "display_data",
          "data": {
            "text/plain": [
              "<Figure size 1000x500 with 2 Axes>"
            ],
            "image/png": "[encoded data removed]"
          },
          "metadata": {}
        }
      ]
    },
    {
      "cell_type": "code",
      "source": [
        "show_history(history3)\n",
        "plot_history(history3)\n",
        "plt.close()"
      ],
      "metadata": {
        "colab": {
          "base_uri": "https://localhost:8080/",
          "height": 528
        },
        "id": "r3xso-LUDgvK",
        "outputId": "a60177d7-f33c-4441-ed86-60fa391fe333"
      },
      "execution_count": 44,
      "outputs": [
        {
          "output_type": "display_data",
          "data": {
            "text/plain": [
              "<Figure size 1000x500 with 2 Axes>"
            ],
            "image/png": "[encoded data removed]"
          },
          "metadata": {}
        }
      ]
    },
    {
      "cell_type": "code",
      "source": [
        "show_history(history4)\n",
        "plot_history(history4)\n",
        "plt.close()"
      ],
      "metadata": {
        "colab": {
          "base_uri": "https://localhost:8080/",
          "height": 528
        },
        "id": "bda8nlI_Djoy",
        "outputId": "6eb8e0e3-0e4f-45e9-8094-45e83f0f65b7"
      },
      "execution_count": 81,
      "outputs": [
        {
          "output_type": "display_data",
          "data": {
            "text/plain": [
              "<Figure size 1000x500 with 2 Axes>"
            ],
            "image/png": "[encoded data removed]"
          },
          "metadata": {}
        }
      ]
    },
    {
      "cell_type": "markdown",
      "source": [
        "W 3. F1 score, zrobić trzeci model i sprawdzic jak on działa\n",
        "W 1. CV i pozmieniać hipeparametry i zostawić jakiś komentarz jak to się nam zmienia i zobaczyć(pobawić się z tym)\n",
        "one maja overfitting i mamy starać się zrobić lepsze modele"
      ],
      "metadata": {
        "id": "ggpfsXKqIzFC"
      }
    },
    {
      "cell_type": "markdown",
      "source": [
        "# PRACA DOMOWA:\n",
        "\n",
        "1. Porównaj historię oraz wyniki powyższych 3 modeli. Porównaj też ich prędkość. Spróbuj zmienić ich hiperparametry.\n",
        "2. Czy jest jakaś lepsza topologia niż zapropownowane wyżej? Zaprojektuj inną sieć dla powyższych danych (np. CNN/LSTM/GRU) i sprawdź wyniki.\n",
        "3. Przygotuj funkcję ewaluacji do modeli, która ma zwracać wynik sieci na zbiorze testowym.\n",
        "4. Na koniec uruchom najlepszy model (wybrany na podstawie funkcji ewaluacji) na większą ilość epok.\n"
      ],
      "metadata": {
        "id": "PxH5OSfFlA54"
      }
    },
    {
      "cell_type": "markdown",
      "source": [
        "# Zadanie 1"
      ],
      "metadata": {
        "id": "DA5lRS_RTiwg"
      }
    },
    {
      "cell_type": "markdown",
      "source": [
        "U góry zaproponowałem dwie inne architektury. Niestety GRU uczy się bardzo długo, więc stwierdziłem, że nie będę go rozwijał i starałem się ulepszyć model CNN."
      ],
      "metadata": {
        "id": "MSIa-cGxTmzZ"
      }
    },
    {
      "cell_type": "markdown",
      "source": [
        "Sprawdziłem różne hiperparametry tylko na jednej sieci, ponieważ RandomSearchCV na poniższym modelu trwał jakieś 30 minut, więc nie miało to sensu do przeszukiwania na każdym i zostawiam tylko ten. W przypadku konieczności sprawdzenia wszystkich jest to możliwe, ale na pewno nie opłacalne."
      ],
      "metadata": {
        "id": "D6T9jt-tUs1Q"
      }
    },
    {
      "cell_type": "code",
      "source": [
        "print(y_train.shape)  # RandomSearchCV przyjmuje tylko format (liczba_próbek, liczba_klas)"
      ],
      "metadata": {
        "colab": {
          "base_uri": "https://localhost:8080/"
        },
        "id": "KaJd-S0NMDHL",
        "outputId": "7c228e6e-9782-422d-db56-5d17dbe56541"
      },
      "execution_count": 70,
      "outputs": [
        {
          "output_type": "stream",
          "name": "stdout",
          "text": [
            "(6566, 2)\n"
          ]
        }
      ]
    },
    {
      "cell_type": "code",
      "source": [
        "from scikeras.wrappers import KerasClassifier\n",
        "from sklearn.model_selection import RandomizedSearchCV\n",
        "\n",
        "def create_model(units=32, activation='relu'):\n",
        "    model = Sequential([\n",
        "        Input(shape=(max_len), dtype='int32', name='review_input'),\n",
        "        Embedding(input_dim=vocab_size, output_dim=100, weights=[embedding_matrix], input_length=max_len, trainable=True),\n",
        "        Flatten(),\n",
        "        Dense(units=units, activation=activation),\n",
        "        Dense(units=units, activation=activation),\n",
        "        Dense(units=2, activation='softmax')\n",
        "    ])\n",
        "    model.compile(optimizer='adam', loss='categorical_crossentropy', metrics=['accuracy'])\n",
        "    return model\n",
        "\n",
        "model = KerasClassifier(model=create_model, epochs=10, verbose=0)\n",
        "\n",
        "# uczenie trwa bardzo długo, więc dałem tylko to do sprawdzenia\n",
        "param_dist = {\n",
        "    'model__units': [32, 64, 128],\n",
        "    'model__activation': ['relu', 'tanh'],\n",
        "}\n",
        "\n",
        "random_search = RandomizedSearchCV(estimator=model, param_distributions=param_dist, n_iter=10, cv=3, verbose=1)\n",
        "\n",
        "random_search_results = random_search.fit(X_train, y_train)\n",
        "\n",
        "print(\"Najlepsze parametry: %s\" % random_search_results.best_params_)\n",
        "print(\"Najlepsza dokładność: %.2f%%\" % (random_search_results.best_score_ * 100))"
      ],
      "metadata": {
        "colab": {
          "base_uri": "https://localhost:8080/"
        },
        "id": "y-xFl64HMllY",
        "outputId": "ba83ee4e-193d-4b53-ce61-56c4fc8ecd9c"
      },
      "execution_count": 71,
      "outputs": [
        {
          "output_type": "stream",
          "name": "stderr",
          "text": [
            "/usr/local/lib/python3.10/dist-packages/sklearn/model_selection/_search.py:305: UserWarning: The total space of parameters 6 is smaller than n_iter=10. Running 6 iterations. For exhaustive searches, use GridSearchCV.\n",
            "  warnings.warn(\n"
          ]
        },
        {
          "output_type": "stream",
          "name": "stdout",
          "text": [
            "Fitting 3 folds for each of 6 candidates, totalling 18 fits\n",
            "Najlepsze parametry: {'model__units': 64, 'model__activation': 'relu'}\n",
            "Najlepsza dokładność: 87.89%\n"
          ]
        }
      ]
    },
    {
      "cell_type": "markdown",
      "source": [
        "Podstawienie najlepszych parametrów"
      ],
      "metadata": {
        "id": "sGWO7eRRX40k"
      }
    },
    {
      "cell_type": "code",
      "source": [
        "model1 = Sequential()\n",
        "\n",
        "model1.add(layers.Input(shape=(max_len), dtype='int32', name='review_input'))\n",
        "model1.add(layers.Embedding(input_dim=vocab_size, output_dim=100, weights=[embedding_matrix], input_length=max_len, trainable=True))\n",
        "model1.add(layers.Flatten())\n",
        "model1.add(layers.Dense(units=64, activation='relu'))\n",
        "model1.add(layers.Dense(units=64, activation='relu'))\n",
        "model1.add(layers.Dense(units=2, activation='softmax'))\n",
        "\n",
        "model1.compile(optimizer='adam', loss='categorical_crossentropy', metrics=['accuracy'])"
      ],
      "metadata": {
        "id": "JwNOpekKX33z"
      },
      "execution_count": 82,
      "outputs": []
    },
    {
      "cell_type": "code",
      "source": [
        "print(model1.summary())\n",
        "SVG(model_to_dot(model1).create(prog='dot', format='svg'))"
      ],
      "metadata": {
        "colab": {
          "base_uri": "https://localhost:8080/",
          "height": 1000
        },
        "id": "8pvgC3zcYGcY",
        "outputId": "aeab81e5-ab3c-4289-ce78-47551ac9273e"
      },
      "execution_count": 83,
      "outputs": [
        {
          "output_type": "stream",
          "name": "stdout",
          "text": [
            "Model: \"sequential_64\"\n",
            "_________________________________________________________________\n",
            " Layer (type)                Output Shape              Param #   \n",
            "=================================================================\n",
            " embedding_62 (Embedding)    (None, 100, 100)          2281400   \n",
            "                                                                 \n",
            " flatten_56 (Flatten)        (None, 10000)             0         \n",
            "                                                                 \n",
            " dense_129 (Dense)           (None, 64)                640064    \n",
            "                                                                 \n",
            " dense_130 (Dense)           (None, 64)                4160      \n",
            "                                                                 \n",
            " dense_131 (Dense)           (None, 2)                 130       \n",
            "                                                                 \n",
            "=================================================================\n",
            "Total params: 2925754 (11.16 MB)\n",
            "Trainable params: 2925754 (11.16 MB)\n",
            "Non-trainable params: 0 (0.00 Byte)\n",
            "_________________________________________________________________\n",
            "None\n"
          ]
        },
        {
          "output_type": "execute_result",
          "data": {
            "text/plain": [
              "<IPython.core.display.SVG object>"
            ],
            "image/svg+xml": "<svg xmlns=\"http://www.w3.org/2000/svg\" xmlns:xlink=\"http://www.w3.org/1999/xlink\" width=\"248pt\" height=\"547pt\" viewBox=\"0.00 0.00 186.00 410.00\">\n<g id=\"graph0\" class=\"graph\" transform=\"scale(0.75 0.75) rotate(0) translate(4 406)\">\n<title>G</title>\n<polygon fill=\"white\" stroke=\"transparent\" points=\"-4,4 -4,-406 182,-406 182,4 -4,4\"/>\n<!-- 138703178966560 -->\n<g id=\"node1\" class=\"node\">\n<title>138703178966560</title>\n<polygon fill=\"none\" stroke=\"black\" points=\"6.5,-365.5 6.5,-401.5 171.5,-401.5 171.5,-365.5 6.5,-365.5\"/>\n<text text-anchor=\"middle\" x=\"50.5\" y=\"-379.8\" font-family=\"Times,serif\" font-size=\"14.00\">review_input</text>\n<polyline fill=\"none\" stroke=\"black\" points=\"94.5,-365.5 94.5,-401.5 \"/>\n<text text-anchor=\"middle\" x=\"133\" y=\"-379.8\" font-family=\"Times,serif\" font-size=\"14.00\">InputLayer</text>\n</g>\n<!-- 138703178970304 -->\n<g id=\"node2\" class=\"node\">\n<title>138703178970304</title>\n<polygon fill=\"none\" stroke=\"black\" points=\"0,-292.5 0,-328.5 178,-328.5 178,-292.5 0,-292.5\"/>\n<text text-anchor=\"middle\" x=\"49\" y=\"-306.8\" font-family=\"Times,serif\" font-size=\"14.00\">embedding_62</text>\n<polyline fill=\"none\" stroke=\"black\" points=\"98,-292.5 98,-328.5 \"/>\n<text text-anchor=\"middle\" x=\"138\" y=\"-306.8\" font-family=\"Times,serif\" font-size=\"14.00\">Embedding</text>\n</g>\n<!-- 138703178966560&#45;&gt;138703178970304 -->\n<g id=\"edge1\" class=\"edge\">\n<title>138703178966560-&gt;138703178970304</title>\n<path fill=\"none\" stroke=\"black\" d=\"M89,-365.31C89,-357.29 89,-347.55 89,-338.57\"/>\n<polygon fill=\"black\" stroke=\"black\" points=\"92.5,-338.53 89,-328.53 85.5,-338.53 92.5,-338.53\"/>\n</g>\n<!-- 138703178078416 -->\n<g id=\"node3\" class=\"node\">\n<title>138703178078416</title>\n<polygon fill=\"none\" stroke=\"black\" points=\"26.5,-219.5 26.5,-255.5 151.5,-255.5 151.5,-219.5 26.5,-219.5\"/>\n<text text-anchor=\"middle\" x=\"62\" y=\"-233.8\" font-family=\"Times,serif\" font-size=\"14.00\">flatten_56</text>\n<polyline fill=\"none\" stroke=\"black\" points=\"97.5,-219.5 97.5,-255.5 \"/>\n<text text-anchor=\"middle\" x=\"124.5\" y=\"-233.8\" font-family=\"Times,serif\" font-size=\"14.00\">Flatten</text>\n</g>\n<!-- 138703178970304&#45;&gt;138703178078416 -->\n<g id=\"edge2\" class=\"edge\">\n<title>138703178970304-&gt;138703178078416</title>\n<path fill=\"none\" stroke=\"black\" d=\"M89,-292.31C89,-284.29 89,-274.55 89,-265.57\"/>\n<polygon fill=\"black\" stroke=\"black\" points=\"92.5,-265.53 89,-255.53 85.5,-265.53 92.5,-265.53\"/>\n</g>\n<!-- 138703205177024 -->\n<g id=\"node4\" class=\"node\">\n<title>138703205177024</title>\n<polygon fill=\"none\" stroke=\"black\" points=\"27,-146.5 27,-182.5 151,-182.5 151,-146.5 27,-146.5\"/>\n<text text-anchor=\"middle\" x=\"64\" y=\"-160.8\" font-family=\"Times,serif\" font-size=\"14.00\">dense_129</text>\n<polyline fill=\"none\" stroke=\"black\" points=\"101,-146.5 101,-182.5 \"/>\n<text text-anchor=\"middle\" x=\"126\" y=\"-160.8\" font-family=\"Times,serif\" font-size=\"14.00\">Dense</text>\n</g>\n<!-- 138703178078416&#45;&gt;138703205177024 -->\n<g id=\"edge3\" class=\"edge\">\n<title>138703178078416-&gt;138703205177024</title>\n<path fill=\"none\" stroke=\"black\" d=\"M89,-219.31C89,-211.29 89,-201.55 89,-192.57\"/>\n<polygon fill=\"black\" stroke=\"black\" points=\"92.5,-192.53 89,-182.53 85.5,-192.53 92.5,-192.53\"/>\n</g>\n<!-- 138707601864016 -->\n<g id=\"node5\" class=\"node\">\n<title>138707601864016</title>\n<polygon fill=\"none\" stroke=\"black\" points=\"27,-73.5 27,-109.5 151,-109.5 151,-73.5 27,-73.5\"/>\n<text text-anchor=\"middle\" x=\"64\" y=\"-87.8\" font-family=\"Times,serif\" font-size=\"14.00\">dense_130</text>\n<polyline fill=\"none\" stroke=\"black\" points=\"101,-73.5 101,-109.5 \"/>\n<text text-anchor=\"middle\" x=\"126\" y=\"-87.8\" font-family=\"Times,serif\" font-size=\"14.00\">Dense</text>\n</g>\n<!-- 138703205177024&#45;&gt;138707601864016 -->\n<g id=\"edge4\" class=\"edge\">\n<title>138703205177024-&gt;138707601864016</title>\n<path fill=\"none\" stroke=\"black\" d=\"M89,-146.31C89,-138.29 89,-128.55 89,-119.57\"/>\n<polygon fill=\"black\" stroke=\"black\" points=\"92.5,-119.53 89,-109.53 85.5,-119.53 92.5,-119.53\"/>\n</g>\n<!-- 138708102486512 -->\n<g id=\"node6\" class=\"node\">\n<title>138708102486512</title>\n<polygon fill=\"none\" stroke=\"black\" points=\"27,-0.5 27,-36.5 151,-36.5 151,-0.5 27,-0.5\"/>\n<text text-anchor=\"middle\" x=\"64\" y=\"-14.8\" font-family=\"Times,serif\" font-size=\"14.00\">dense_131</text>\n<polyline fill=\"none\" stroke=\"black\" points=\"101,-0.5 101,-36.5 \"/>\n<text text-anchor=\"middle\" x=\"126\" y=\"-14.8\" font-family=\"Times,serif\" font-size=\"14.00\">Dense</text>\n</g>\n<!-- 138707601864016&#45;&gt;138708102486512 -->\n<g id=\"edge5\" class=\"edge\">\n<title>138707601864016-&gt;138708102486512</title>\n<path fill=\"none\" stroke=\"black\" d=\"M89,-73.31C89,-65.29 89,-55.55 89,-46.57\"/>\n<polygon fill=\"black\" stroke=\"black\" points=\"92.5,-46.53 89,-36.53 85.5,-46.53 92.5,-46.53\"/>\n</g>\n</g>\n</svg>"
          },
          "metadata": {},
          "execution_count": 83
        }
      ]
    },
    {
      "cell_type": "code",
      "source": [
        "history1 = model1.fit(X_train,y_train, epochs=5, batch_size=32, verbose = True, validation_data=(X_val, y_val))"
      ],
      "metadata": {
        "colab": {
          "base_uri": "https://localhost:8080/"
        },
        "id": "WlMFupYOYKWB",
        "outputId": "749e71bb-d8db-4e49-aaf9-4715267a53e1"
      },
      "execution_count": 84,
      "outputs": [
        {
          "output_type": "stream",
          "name": "stdout",
          "text": [
            "Epoch 1/5\n",
            "206/206 [==============================] - 17s 78ms/step - loss: 0.3672 - accuracy: 0.8792 - val_loss: 0.3494 - val_accuracy: 0.8794\n",
            "Epoch 2/5\n",
            "206/206 [==============================] - 15s 74ms/step - loss: 0.2473 - accuracy: 0.8967 - val_loss: 0.3101 - val_accuracy: 0.8800\n",
            "Epoch 3/5\n",
            "206/206 [==============================] - 12s 58ms/step - loss: 0.0999 - accuracy: 0.9636 - val_loss: 0.4029 - val_accuracy: 0.8745\n",
            "Epoch 4/5\n",
            "206/206 [==============================] - 14s 69ms/step - loss: 0.0231 - accuracy: 0.9941 - val_loss: 0.5174 - val_accuracy: 0.8739\n",
            "Epoch 5/5\n",
            "206/206 [==============================] - 10s 47ms/step - loss: 0.0060 - accuracy: 0.9994 - val_loss: 0.6387 - val_accuracy: 0.8819\n"
          ]
        }
      ]
    },
    {
      "cell_type": "code",
      "source": [
        "show_history(history1)\n",
        "plot_history(history1)\n",
        "plt.close()"
      ],
      "metadata": {
        "colab": {
          "base_uri": "https://localhost:8080/",
          "height": 528
        },
        "id": "vOqlsfRCYznX",
        "outputId": "b493ccbf-f715-45b5-a5f9-92d1cf356de9"
      },
      "execution_count": 85,
      "outputs": [
        {
          "output_type": "display_data",
          "data": {
            "text/plain": [
              "<Figure size 1000x500 with 2 Axes>"
            ],
            "image/png": "[encoded data removed]"
          },
          "metadata": {}
        }
      ]
    },
    {
      "cell_type": "markdown",
      "source": [
        "#Zadanie 3"
      ],
      "metadata": {
        "id": "jLJfxYI9ZJlm"
      }
    },
    {
      "cell_type": "markdown",
      "source": [
        "#Ewaluacja wyników powyższych modeli"
      ],
      "metadata": {
        "id": "I64ZUAI8Yc_S"
      }
    },
    {
      "cell_type": "code",
      "source": [
        "from sklearn.metrics import f1_score\n",
        "\n",
        "def find_best_model(models, X_val, y_val):\n",
        "    best_score = -1\n",
        "    best_model_name = None\n",
        "    results = {}\n",
        "\n",
        "    for name, model in models.items():\n",
        "        y_pred = model.predict(X_val)\n",
        "        y_pred = np.argmax(y_pred, axis=1)\n",
        "        if y_val.shape[1] > 1:\n",
        "            y_true = np.argmax(y_val, axis=1)\n",
        "        else:\n",
        "            y_true = y_val\n",
        "        f1 = f1_score(y_true, y_pred, average='macro')\n",
        "        results[name] = {'F1-score': f1}\n",
        "\n",
        "        if f1 > best_score:\n",
        "            best_score = f1\n",
        "            best_model_name = name\n",
        "\n",
        "    return best_model_name, best_score, results\n",
        "\n",
        "models = {\n",
        "    'model1': model1,\n",
        "    'model2': model2,\n",
        "    'model3': model3,\n",
        "    'model4': model4\n",
        "}\n",
        "\n",
        "best_model_name, best_score, results = find_best_model(models, X_val, y_val)\n",
        "\n",
        "print(f\"Najlepszy model: {best_model_name} z F1-score: {best_score:.4f}\")\n",
        "for name, result in results.items():\n",
        "    print(f\"{name} - F1-score: {result['F1-score']:.4f}\")"
      ],
      "metadata": {
        "colab": {
          "base_uri": "https://localhost:8080/"
        },
        "id": "NcR90XYrYgPP",
        "outputId": "49318d41-9f74-49e2-c5f3-f82fe0fa5ba5"
      },
      "execution_count": 86,
      "outputs": [
        {
          "output_type": "stream",
          "name": "stdout",
          "text": [
            "52/52 [==============================] - 0s 6ms/step\n",
            "52/52 [==============================] - 1s 9ms/step\n",
            "52/52 [==============================] - 5s 60ms/step\n",
            "52/52 [==============================] - 1s 15ms/step\n",
            "Najlepszy model: model3 z F1-score: 0.6826\n",
            "model1 - F1-score: 0.6545\n",
            "model2 - F1-score: 0.5985\n",
            "model3 - F1-score: 0.6826\n",
            "model4 - F1-score: 0.6434\n"
          ]
        }
      ]
    },
    {
      "cell_type": "markdown",
      "source": [
        "Nawet bez ulepszania modelu GRU okazał się on najlepszy"
      ],
      "metadata": {
        "id": "EhETc3jNY-8t"
      }
    },
    {
      "cell_type": "markdown",
      "source": [
        "#Zadanie 4"
      ],
      "metadata": {
        "id": "ZZDsL2UcZHcc"
      }
    },
    {
      "cell_type": "code",
      "source": [
        "model3 = Sequential()\n",
        "\n",
        "model3 = Sequential([\n",
        "    Embedding(input_dim=vocab_size, output_dim=100, weights=[embedding_matrix], input_length=max_len, trainable=True),\n",
        "    GRU(128, return_sequences=True),\n",
        "    GRU(128),\n",
        "    Dense(64, activation='relu'),\n",
        "    Dropout(0.5),\n",
        "    Dense(2, activation='sigmoid')\n",
        "])\n",
        "\n",
        "model3.compile(optimizer='adam', loss='categorical_crossentropy', metrics=['accuracy'])"
      ],
      "metadata": {
        "id": "Ec8dqwksZOX0"
      },
      "execution_count": 90,
      "outputs": []
    },
    {
      "cell_type": "code",
      "source": [
        "early_stopping = EarlyStopping(\n",
        "    monitor='val_loss',\n",
        "    patience=3,\n",
        "    verbose=1,\n",
        "    restore_best_weights=True\n",
        ")\n",
        "\n",
        "history3 = model3.fit(\n",
        "    X_train, y_train,\n",
        "    epochs=20,\n",
        "    batch_size=32,\n",
        "    verbose=True,\n",
        "    validation_data=(X_val, y_val),\n",
        "    callbacks=[early_stopping]\n",
        ")"
      ],
      "metadata": {
        "colab": {
          "base_uri": "https://localhost:8080/"
        },
        "id": "-LPNLBwMZhLY",
        "outputId": "6aa57811-6ba5-4f76-d6ac-01aacba41d13"
      },
      "execution_count": 91,
      "outputs": [
        {
          "output_type": "stream",
          "name": "stdout",
          "text": [
            "Epoch 1/20\n",
            "206/206 [==============================] - 138s 608ms/step - loss: 0.3432 - accuracy: 0.8744 - val_loss: 0.2855 - val_accuracy: 0.8782\n",
            "Epoch 2/20\n",
            "206/206 [==============================] - 78s 382ms/step - loss: 0.2537 - accuracy: 0.8996 - val_loss: 0.3062 - val_accuracy: 0.8910\n",
            "Epoch 3/20\n",
            "206/206 [==============================] - 84s 405ms/step - loss: 0.1787 - accuracy: 0.9272 - val_loss: 0.2800 - val_accuracy: 0.8855\n",
            "Epoch 4/20\n",
            "206/206 [==============================] - 82s 401ms/step - loss: 0.1151 - accuracy: 0.9560 - val_loss: 0.3264 - val_accuracy: 0.8952\n",
            "Epoch 5/20\n",
            "206/206 [==============================] - 83s 403ms/step - loss: 0.0576 - accuracy: 0.9819 - val_loss: 0.4725 - val_accuracy: 0.8855\n",
            "Epoch 6/20\n",
            "206/206 [==============================] - ETA: 0s - loss: 0.0181 - accuracy: 0.9947Restoring model weights from the end of the best epoch: 3.\n",
            "206/206 [==============================] - 100s 483ms/step - loss: 0.0181 - accuracy: 0.9947 - val_loss: 0.6220 - val_accuracy: 0.8946\n",
            "Epoch 6: early stopping\n"
          ]
        }
      ]
    },
    {
      "cell_type": "code",
      "source": [
        "show_history(history3)\n",
        "plot_history(history3)\n",
        "plt.close()"
      ],
      "metadata": {
        "colab": {
          "base_uri": "https://localhost:8080/",
          "height": 528
        },
        "id": "9Be9RK_ZZbbH",
        "outputId": "28de5620-7c5c-4af8-fcae-92d749212631"
      },
      "execution_count": 92,
      "outputs": [
        {
          "output_type": "display_data",
          "data": {
            "text/plain": [
              "<Figure size 1000x500 with 2 Axes>"
            ],
            "image/png": "[encoded data removed]"
          },
          "metadata": {}
        }
      ]
    },
    {
      "cell_type": "markdown",
      "source": [
        "Ewaluacja na zbiorze testowym"
      ],
      "metadata": {
        "id": "Rz_HzPN5aqkq"
      }
    },
    {
      "cell_type": "code",
      "source": [
        "test_loss, test_accuracy = model3.evaluate(X_test, y_test, verbose=1)\n",
        "\n",
        "print(f\"Test Loss: {test_loss:.4f}\")\n",
        "print(f\"Test Accuracy: {test_accuracy:.4f}\")"
      ],
      "metadata": {
        "colab": {
          "base_uri": "https://localhost:8080/"
        },
        "id": "JD-1bNVncK_d",
        "outputId": "e5227afb-862b-4c73-e391-aca8344a6b71"
      },
      "execution_count": 94,
      "outputs": [
        {
          "output_type": "stream",
          "name": "stdout",
          "text": [
            "65/65 [==============================] - 4s 55ms/step - loss: 0.2924 - accuracy: 0.8807\n",
            "Test Loss: 0.2924\n",
            "Test Accuracy: 0.8807\n"
          ]
        }
      ]
    },
    {
      "cell_type": "code",
      "source": [
        "from sklearn.metrics import classification_report\n",
        "\n",
        "y_pred = model3.predict(X_test)\n",
        "y_pred = np.argmax(y_pred, axis=1)\n",
        "\n",
        "if y_test.shape[1] > 1:\n",
        "    y_true = np.argmax(y_test, axis=1)\n",
        "else:\n",
        "    y_true = y_test\n",
        "\n",
        "print(classification_report(y_true, y_pred))"
      ],
      "metadata": {
        "colab": {
          "base_uri": "https://localhost:8080/"
        },
        "id": "O-po2KCoarKB",
        "outputId": "cf21f679-f9e6-4cc1-cc49-3ee97b4fb1cc"
      },
      "execution_count": 93,
      "outputs": [
        {
          "output_type": "stream",
          "name": "stdout",
          "text": [
            "65/65 [==============================] - 6s 79ms/step\n",
            "              precision    recall  f1-score   support\n",
            "\n",
            "           0       0.51      0.52      0.51       248\n",
            "           1       0.93      0.93      0.93      1805\n",
            "\n",
            "    accuracy                           0.88      2053\n",
            "   macro avg       0.72      0.73      0.72      2053\n",
            "weighted avg       0.88      0.88      0.88      2053\n",
            "\n"
          ]
        }
      ]
    }
  ]
}